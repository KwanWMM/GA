{
 "cells": [
  {
   "cell_type": "code",
   "execution_count": 1,
   "metadata": {},
   "outputs": [],
   "source": [
    "#import neccesary libraries\n",
    "import math\n",
    "import matplotlib.pyplot as plt\n",
    "%matplotlib inline"
   ]
  },
  {
   "cell_type": "code",
   "execution_count": 2,
   "metadata": {},
   "outputs": [],
   "source": [
    "#Create a function for generating sigmoid values to generate sigmoid curves\n",
    "def sigmoid(num_list):\n",
    "    sigmoid_list=[]\n",
    "    \n",
    "    #Iterate through the list entered into the function\n",
    "    for item in num_list:\n",
    "        \n",
    "        #Append the sigmoid values to sigmoid_list\n",
    "        sigmoid_list.append(1/(1+math.exp(-item)))\n",
    "    \n",
    "    #return the list of sigmoid values\n",
    "    return sigmoid_list"
   ]
  },
  {
   "cell_type": "code",
   "execution_count": 3,
   "metadata": {},
   "outputs": [],
   "source": [
    "#Create lists for both the left and right of the sigmoid curve \n",
    "#There are 1000 elements in total as the first 200 will be truncated to create the positive skew\n",
    "left = [num/50 for num in range(-250,250)]\n",
    "right = [num/50 for num in range(-250,250)]"
   ]
  },
  {
   "cell_type": "code",
   "execution_count": 11,
   "metadata": {},
   "outputs": [],
   "source": [
    "#create a function to calculate the probability\n",
    "def probability(num):\n",
    "    #The probability is simply the value divided by the sum of all possible values\n",
    "    #DO not count the first 200 values of sigmoid(left) as they will be truncated to create the positive skew\n",
    "    return (num/(sum(sigmoid(left)[200:])+sum(sigmoid(right))))\n",
    "\n",
    "#Create the list of probabilities for the left hand side of the curve (first 200 truncated to create the positive skew)\n",
    "prob_left = [probability(num) for num in sigmoid(left)[200:]]\n",
    "\n",
    "#Create the list of probabilities for the right hand side of the curve\n",
    "#sigmoid(right) is reversed as it is a mirror image of sigmoid(left))\n",
    "prob_right = [probability(num) for num in sigmoid(right)[::-1]]\n",
    "\n",
    "#list of total probabilities\n",
    "prob_combined = prob_left+prob_right"
   ]
  },
  {
   "cell_type": "code",
   "execution_count": 21,
   "metadata": {},
   "outputs": [
    {
     "data": {
      "text/plain": [
       "[<matplotlib.lines.Line2D at 0x18bee886b70>]"
      ]
     },
     "execution_count": 21,
     "metadata": {},
     "output_type": "execute_result"
    },
    {
     "data": {
      "image/png": "[encoded data removed]",
      "text/plain": [
       "<Figure size 432x288 with 1 Axes>"
      ]
     },
     "metadata": {},
     "output_type": "display_data"
    }
   ],
   "source": [
    "#Generate the x-axis, 800 numbers representing the pokemon sorted by strength\n",
    "x_axis = [num for num in range(800)]\n",
    "\n",
    "#Plot the Pokeon ID aginst the porbability of catching them\n",
    "plt.xlabel('Pokemon ID')\n",
    "plt.ylabel('Probability')\n",
    "plt.plot(x_axis,prob_combined)"
   ]
  },
  {
   "cell_type": "code",
   "execution_count": 22,
   "metadata": {},
   "outputs": [
    {
     "data": {
      "text/plain": [
       "0.9999999999999998"
      ]
     },
     "execution_count": 22,
     "metadata": {},
     "output_type": "execute_result"
    }
   ],
   "source": [
    "#Shortcomings: due to the imprecise nature of floats, the sum of probabilities is slightly under 1.\n",
    "sum(prob_combined)"
   ]
  },
  {
   "cell_type": "code",
   "execution_count": 9,
   "metadata": {},
   "outputs": [
    {
     "ename": "SyntaxError",
     "evalue": "invalid syntax (<ipython-input-9-5ca998e25170>, line 1)",
     "output_type": "error",
     "traceback": [
      "\u001b[1;36m  File \u001b[1;32m\"<ipython-input-9-5ca998e25170>\"\u001b[1;36m, line \u001b[1;32m1\u001b[0m\n\u001b[1;33m    sum(sigmoid(left)[200]:)\u001b[0m\n\u001b[1;37m                          ^\u001b[0m\n\u001b[1;31mSyntaxError\u001b[0m\u001b[1;31m:\u001b[0m invalid syntax\n"
     ]
    }
   ],
   "source": [
    "sum(sigmoid(left)[200]:)"
   ]
  },
  {
   "cell_type": "code",
   "execution_count": null,
   "metadata": {},
   "outputs": [],
   "source": []
  },
  {
   "cell_type": "code",
   "execution_count": null,
   "metadata": {},
   "outputs": [],
   "source": []
  }
 ],
 "metadata": {
  "kernelspec": {
   "display_name": "Python 3",
   "language": "python",
   "name": "python3"
  },
  "language_info": {
   "codemirror_mode": {
    "name": "ipython",
    "version": 3
   },
   "file_extension": ".py",
   "mimetype": "text/x-python",
   "name": "python",
   "nbconvert_exporter": "python",
   "pygments_lexer": "ipython3",
   "version": "3.6.5"
  }
 },
 "nbformat": 4,
 "nbformat_minor": 2
}
