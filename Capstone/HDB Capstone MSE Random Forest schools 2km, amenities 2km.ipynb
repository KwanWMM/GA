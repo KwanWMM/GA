{
 "cells": [
  {
   "cell_type": "code",
   "execution_count": 1,
   "metadata": {},
   "outputs": [],
   "source": [
    "import numpy as np\n",
    "import pandas as pd\n",
    "import matplotlib.pyplot as plt\n",
    "import seaborn as sns\n",
    "\n",
    "%matplotlib inline"
   ]
  },
  {
   "cell_type": "code",
   "execution_count": 2,
   "metadata": {},
   "outputs": [],
   "source": [
    "hdb_transport = pd.read_csv('./hdb_ll_mrt_cp.csv',index_col=0)"
   ]
  },
  {
   "cell_type": "code",
   "execution_count": 3,
   "metadata": {},
   "outputs": [
    {
     "data": {
      "text/html": [
       "<div>\n",
       "<style scoped>\n",
       "    .dataframe tbody tr th:only-of-type {\n",
       "        vertical-align: middle;\n",
       "    }\n",
       "\n",
       "    .dataframe tbody tr th {\n",
       "        vertical-align: top;\n",
       "    }\n",
       "\n",
       "    .dataframe thead th {\n",
       "        text-align: right;\n",
       "    }\n",
       "</style>\n",
       "<table border=\"1\" class=\"dataframe\">\n",
       "  <thead>\n",
       "    <tr style=\"text-align: right;\">\n",
       "      <th></th>\n",
       "      <th>month</th>\n",
       "      <th>town</th>\n",
       "      <th>flat_type</th>\n",
       "      <th>block</th>\n",
       "      <th>street_name</th>\n",
       "      <th>storey_range</th>\n",
       "      <th>floor_area_sqm</th>\n",
       "      <th>flat_model</th>\n",
       "      <th>lease_commence_date</th>\n",
       "      <th>remaining_lease</th>\n",
       "      <th>resale_price</th>\n",
       "      <th>HERE_address</th>\n",
       "      <th>Latitude</th>\n",
       "      <th>Longitude</th>\n",
       "      <th>closest_mrt</th>\n",
       "      <th>dist_mrt_km</th>\n",
       "      <th>closest_cp</th>\n",
       "      <th>dist_cp_km</th>\n",
       "    </tr>\n",
       "  </thead>\n",
       "  <tbody>\n",
       "    <tr>\n",
       "      <th>0</th>\n",
       "      <td>2015-01</td>\n",
       "      <td>ANG MO KIO</td>\n",
       "      <td>3 ROOM</td>\n",
       "      <td>174</td>\n",
       "      <td>ANG MO KIO AVE 4</td>\n",
       "      <td>07 TO 09</td>\n",
       "      <td>60.0</td>\n",
       "      <td>Improved</td>\n",
       "      <td>1986</td>\n",
       "      <td>70</td>\n",
       "      <td>255000.0</td>\n",
       "      <td>174 ANG MO KIO AVE 4 Singapore</td>\n",
       "      <td>1.37541</td>\n",
       "      <td>103.8374</td>\n",
       "      <td>YIO CHU KANG  MRT STATION SINGAPORE</td>\n",
       "      <td>1.0909</td>\n",
       "      <td>BLK 173/176 ANG MO KIO AVE 4</td>\n",
       "      <td>0.1152</td>\n",
       "    </tr>\n",
       "    <tr>\n",
       "      <th>1</th>\n",
       "      <td>2015-12</td>\n",
       "      <td>ANG MO KIO</td>\n",
       "      <td>3 ROOM</td>\n",
       "      <td>174</td>\n",
       "      <td>ANG MO KIO AVE 4</td>\n",
       "      <td>10 TO 12</td>\n",
       "      <td>60.0</td>\n",
       "      <td>Improved</td>\n",
       "      <td>1986</td>\n",
       "      <td>69</td>\n",
       "      <td>275000.0</td>\n",
       "      <td>174 ANG MO KIO AVE 4 Singapore</td>\n",
       "      <td>1.37541</td>\n",
       "      <td>103.8374</td>\n",
       "      <td>YIO CHU KANG  MRT STATION SINGAPORE</td>\n",
       "      <td>1.0909</td>\n",
       "      <td>BLK 173/176 ANG MO KIO AVE 4</td>\n",
       "      <td>0.1152</td>\n",
       "    </tr>\n",
       "    <tr>\n",
       "      <th>2</th>\n",
       "      <td>2016-05</td>\n",
       "      <td>ANG MO KIO</td>\n",
       "      <td>3 ROOM</td>\n",
       "      <td>174</td>\n",
       "      <td>ANG MO KIO AVE 4</td>\n",
       "      <td>04 TO 06</td>\n",
       "      <td>69.0</td>\n",
       "      <td>Improved</td>\n",
       "      <td>1986</td>\n",
       "      <td>68</td>\n",
       "      <td>310000.0</td>\n",
       "      <td>174 ANG MO KIO AVE 4 Singapore</td>\n",
       "      <td>1.37541</td>\n",
       "      <td>103.8374</td>\n",
       "      <td>YIO CHU KANG  MRT STATION SINGAPORE</td>\n",
       "      <td>1.0909</td>\n",
       "      <td>BLK 173/176 ANG MO KIO AVE 4</td>\n",
       "      <td>0.1152</td>\n",
       "    </tr>\n",
       "    <tr>\n",
       "      <th>3</th>\n",
       "      <td>2016-06</td>\n",
       "      <td>ANG MO KIO</td>\n",
       "      <td>2 ROOM</td>\n",
       "      <td>174</td>\n",
       "      <td>ANG MO KIO AVE 4</td>\n",
       "      <td>07 TO 09</td>\n",
       "      <td>45.0</td>\n",
       "      <td>Improved</td>\n",
       "      <td>1986</td>\n",
       "      <td>68</td>\n",
       "      <td>253000.0</td>\n",
       "      <td>174 ANG MO KIO AVE 4 Singapore</td>\n",
       "      <td>1.37541</td>\n",
       "      <td>103.8374</td>\n",
       "      <td>YIO CHU KANG  MRT STATION SINGAPORE</td>\n",
       "      <td>1.0909</td>\n",
       "      <td>BLK 173/176 ANG MO KIO AVE 4</td>\n",
       "      <td>0.1152</td>\n",
       "    </tr>\n",
       "    <tr>\n",
       "      <th>4</th>\n",
       "      <td>2016-11</td>\n",
       "      <td>ANG MO KIO</td>\n",
       "      <td>3 ROOM</td>\n",
       "      <td>174</td>\n",
       "      <td>ANG MO KIO AVE 4</td>\n",
       "      <td>04 TO 06</td>\n",
       "      <td>61.0</td>\n",
       "      <td>Improved</td>\n",
       "      <td>1986</td>\n",
       "      <td>68</td>\n",
       "      <td>290000.0</td>\n",
       "      <td>174 ANG MO KIO AVE 4 Singapore</td>\n",
       "      <td>1.37541</td>\n",
       "      <td>103.8374</td>\n",
       "      <td>YIO CHU KANG  MRT STATION SINGAPORE</td>\n",
       "      <td>1.0909</td>\n",
       "      <td>BLK 173/176 ANG MO KIO AVE 4</td>\n",
       "      <td>0.1152</td>\n",
       "    </tr>\n",
       "  </tbody>\n",
       "</table>\n",
       "</div>"
      ],
      "text/plain": [
       "     month        town flat_type block       street_name storey_range  \\\n",
       "0  2015-01  ANG MO KIO    3 ROOM   174  ANG MO KIO AVE 4     07 TO 09   \n",
       "1  2015-12  ANG MO KIO    3 ROOM   174  ANG MO KIO AVE 4     10 TO 12   \n",
       "2  2016-05  ANG MO KIO    3 ROOM   174  ANG MO KIO AVE 4     04 TO 06   \n",
       "3  2016-06  ANG MO KIO    2 ROOM   174  ANG MO KIO AVE 4     07 TO 09   \n",
       "4  2016-11  ANG MO KIO    3 ROOM   174  ANG MO KIO AVE 4     04 TO 06   \n",
       "\n",
       "   floor_area_sqm flat_model  lease_commence_date  remaining_lease  \\\n",
       "0            60.0   Improved                 1986               70   \n",
       "1            60.0   Improved                 1986               69   \n",
       "2            69.0   Improved                 1986               68   \n",
       "3            45.0   Improved                 1986               68   \n",
       "4            61.0   Improved                 1986               68   \n",
       "\n",
       "   resale_price                    HERE_address  Latitude  Longitude  \\\n",
       "0      255000.0  174 ANG MO KIO AVE 4 Singapore   1.37541   103.8374   \n",
       "1      275000.0  174 ANG MO KIO AVE 4 Singapore   1.37541   103.8374   \n",
       "2      310000.0  174 ANG MO KIO AVE 4 Singapore   1.37541   103.8374   \n",
       "3      253000.0  174 ANG MO KIO AVE 4 Singapore   1.37541   103.8374   \n",
       "4      290000.0  174 ANG MO KIO AVE 4 Singapore   1.37541   103.8374   \n",
       "\n",
       "                           closest_mrt  dist_mrt_km  \\\n",
       "0  YIO CHU KANG  MRT STATION SINGAPORE       1.0909   \n",
       "1  YIO CHU KANG  MRT STATION SINGAPORE       1.0909   \n",
       "2  YIO CHU KANG  MRT STATION SINGAPORE       1.0909   \n",
       "3  YIO CHU KANG  MRT STATION SINGAPORE       1.0909   \n",
       "4  YIO CHU KANG  MRT STATION SINGAPORE       1.0909   \n",
       "\n",
       "                     closest_cp  dist_cp_km  \n",
       "0  BLK 173/176 ANG MO KIO AVE 4      0.1152  \n",
       "1  BLK 173/176 ANG MO KIO AVE 4      0.1152  \n",
       "2  BLK 173/176 ANG MO KIO AVE 4      0.1152  \n",
       "3  BLK 173/176 ANG MO KIO AVE 4      0.1152  \n",
       "4  BLK 173/176 ANG MO KIO AVE 4      0.1152  "
      ]
     },
     "execution_count": 3,
     "metadata": {},
     "output_type": "execute_result"
    }
   ],
   "source": [
    "hdb_transport.head()"
   ]
  },
  {
   "cell_type": "code",
   "execution_count": 4,
   "metadata": {},
   "outputs": [
    {
     "data": {
      "text/html": [
       "<div>\n",
       "<style scoped>\n",
       "    .dataframe tbody tr th:only-of-type {\n",
       "        vertical-align: middle;\n",
       "    }\n",
       "\n",
       "    .dataframe tbody tr th {\n",
       "        vertical-align: top;\n",
       "    }\n",
       "\n",
       "    .dataframe thead th {\n",
       "        text-align: right;\n",
       "    }\n",
       "</style>\n",
       "<table border=\"1\" class=\"dataframe\">\n",
       "  <thead>\n",
       "    <tr style=\"text-align: right;\">\n",
       "      <th></th>\n",
       "      <th>month</th>\n",
       "      <th>town</th>\n",
       "      <th>flat_type</th>\n",
       "      <th>block</th>\n",
       "      <th>street_name</th>\n",
       "      <th>storey_range</th>\n",
       "      <th>floor_area_sqm</th>\n",
       "      <th>flat_model</th>\n",
       "      <th>lease_commence_date</th>\n",
       "      <th>remaining_lease</th>\n",
       "      <th>resale_price</th>\n",
       "      <th>HERE_address</th>\n",
       "      <th>Latitude</th>\n",
       "      <th>Longitude</th>\n",
       "      <th>closest_mrt</th>\n",
       "      <th>dist_mrt_km</th>\n",
       "      <th>closest_cp</th>\n",
       "      <th>dist_cp_km</th>\n",
       "    </tr>\n",
       "  </thead>\n",
       "  <tbody>\n",
       "    <tr>\n",
       "      <th>79095</th>\n",
       "      <td>2018-12</td>\n",
       "      <td>WOODLANDS</td>\n",
       "      <td>4 ROOM</td>\n",
       "      <td>782A</td>\n",
       "      <td>WOODLANDS CRES</td>\n",
       "      <td>07 TO 09</td>\n",
       "      <td>92.0</td>\n",
       "      <td>Model A</td>\n",
       "      <td>2015</td>\n",
       "      <td>95</td>\n",
       "      <td>396500.0</td>\n",
       "      <td>782A WOODLANDS CRES Singapore</td>\n",
       "      <td>1.44735</td>\n",
       "      <td>103.80254</td>\n",
       "      <td>ADMIRALTY  MRT STATION SINGAPORE</td>\n",
       "      <td>0.7653</td>\n",
       "      <td>BLK 782 WOODLANDS CRESCENT</td>\n",
       "      <td>0.1487</td>\n",
       "    </tr>\n",
       "    <tr>\n",
       "      <th>79096</th>\n",
       "      <td>2018-12</td>\n",
       "      <td>WOODLANDS</td>\n",
       "      <td>EXECUTIVE</td>\n",
       "      <td>117</td>\n",
       "      <td>MARSILING RISE</td>\n",
       "      <td>01 TO 03</td>\n",
       "      <td>170.0</td>\n",
       "      <td>Apartment</td>\n",
       "      <td>1995</td>\n",
       "      <td>75</td>\n",
       "      <td>685000.0</td>\n",
       "      <td>117 MARSILING RISE Singapore</td>\n",
       "      <td>1.43836</td>\n",
       "      <td>103.78007</td>\n",
       "      <td>WOODLANDS  MRT STATION SINGAPORE</td>\n",
       "      <td>0.7342</td>\n",
       "      <td>BLK 114-133 MARSILING RISE</td>\n",
       "      <td>0.0861</td>\n",
       "    </tr>\n",
       "    <tr>\n",
       "      <th>79097</th>\n",
       "      <td>2018-12</td>\n",
       "      <td>YISHUN</td>\n",
       "      <td>4 ROOM</td>\n",
       "      <td>348A</td>\n",
       "      <td>YISHUN AVE 11</td>\n",
       "      <td>10 TO 12</td>\n",
       "      <td>92.0</td>\n",
       "      <td>DBSS</td>\n",
       "      <td>2013</td>\n",
       "      <td>93</td>\n",
       "      <td>600000.0</td>\n",
       "      <td>348A YISHUN AVE 11 Singapore</td>\n",
       "      <td>1.42719</td>\n",
       "      <td>103.84126</td>\n",
       "      <td>YISHUN  MRT STATION SINGAPORE</td>\n",
       "      <td>0.7404</td>\n",
       "      <td>BLK 347 YISHUN AVE 11</td>\n",
       "      <td>0.1563</td>\n",
       "    </tr>\n",
       "    <tr>\n",
       "      <th>79098</th>\n",
       "      <td>2018-12</td>\n",
       "      <td>YISHUN</td>\n",
       "      <td>4 ROOM</td>\n",
       "      <td>347B</td>\n",
       "      <td>YISHUN AVE 11</td>\n",
       "      <td>10 TO 12</td>\n",
       "      <td>92.0</td>\n",
       "      <td>DBSS</td>\n",
       "      <td>2013</td>\n",
       "      <td>93</td>\n",
       "      <td>530000.0</td>\n",
       "      <td>347B YISHUN AVE 11 Singapore</td>\n",
       "      <td>1.42789</td>\n",
       "      <td>103.84212</td>\n",
       "      <td>YISHUN  MRT STATION SINGAPORE</td>\n",
       "      <td>0.8097</td>\n",
       "      <td>BLK 347 YISHUN AVE 11</td>\n",
       "      <td>0.0711</td>\n",
       "    </tr>\n",
       "    <tr>\n",
       "      <th>79099</th>\n",
       "      <td>2018-12</td>\n",
       "      <td>YISHUN</td>\n",
       "      <td>5 ROOM</td>\n",
       "      <td>348C</td>\n",
       "      <td>YISHUN AVE 11</td>\n",
       "      <td>13 TO 15</td>\n",
       "      <td>112.0</td>\n",
       "      <td>DBSS</td>\n",
       "      <td>2013</td>\n",
       "      <td>93</td>\n",
       "      <td>710000.0</td>\n",
       "      <td>348C YISHUN AVE 11 Singapore</td>\n",
       "      <td>1.42697</td>\n",
       "      <td>103.84230</td>\n",
       "      <td>YISHUN  MRT STATION SINGAPORE</td>\n",
       "      <td>0.8575</td>\n",
       "      <td>BLK 347 YISHUN AVE 11</td>\n",
       "      <td>0.0694</td>\n",
       "    </tr>\n",
       "  </tbody>\n",
       "</table>\n",
       "</div>"
      ],
      "text/plain": [
       "         month       town  flat_type block     street_name storey_range  \\\n",
       "79095  2018-12  WOODLANDS     4 ROOM  782A  WOODLANDS CRES     07 TO 09   \n",
       "79096  2018-12  WOODLANDS  EXECUTIVE   117  MARSILING RISE     01 TO 03   \n",
       "79097  2018-12     YISHUN     4 ROOM  348A   YISHUN AVE 11     10 TO 12   \n",
       "79098  2018-12     YISHUN     4 ROOM  347B   YISHUN AVE 11     10 TO 12   \n",
       "79099  2018-12     YISHUN     5 ROOM  348C   YISHUN AVE 11     13 TO 15   \n",
       "\n",
       "       floor_area_sqm flat_model  lease_commence_date  remaining_lease  \\\n",
       "79095            92.0    Model A                 2015               95   \n",
       "79096           170.0  Apartment                 1995               75   \n",
       "79097            92.0       DBSS                 2013               93   \n",
       "79098            92.0       DBSS                 2013               93   \n",
       "79099           112.0       DBSS                 2013               93   \n",
       "\n",
       "       resale_price                   HERE_address  Latitude  Longitude  \\\n",
       "79095      396500.0  782A WOODLANDS CRES Singapore   1.44735  103.80254   \n",
       "79096      685000.0   117 MARSILING RISE Singapore   1.43836  103.78007   \n",
       "79097      600000.0   348A YISHUN AVE 11 Singapore   1.42719  103.84126   \n",
       "79098      530000.0   347B YISHUN AVE 11 Singapore   1.42789  103.84212   \n",
       "79099      710000.0   348C YISHUN AVE 11 Singapore   1.42697  103.84230   \n",
       "\n",
       "                            closest_mrt  dist_mrt_km  \\\n",
       "79095  ADMIRALTY  MRT STATION SINGAPORE       0.7653   \n",
       "79096  WOODLANDS  MRT STATION SINGAPORE       0.7342   \n",
       "79097     YISHUN  MRT STATION SINGAPORE       0.7404   \n",
       "79098     YISHUN  MRT STATION SINGAPORE       0.8097   \n",
       "79099     YISHUN  MRT STATION SINGAPORE       0.8575   \n",
       "\n",
       "                       closest_cp  dist_cp_km  \n",
       "79095  BLK 782 WOODLANDS CRESCENT      0.1487  \n",
       "79096  BLK 114-133 MARSILING RISE      0.0861  \n",
       "79097       BLK 347 YISHUN AVE 11      0.1563  \n",
       "79098       BLK 347 YISHUN AVE 11      0.0711  \n",
       "79099       BLK 347 YISHUN AVE 11      0.0694  "
      ]
     },
     "execution_count": 4,
     "metadata": {},
     "output_type": "execute_result"
    }
   ],
   "source": [
    "hdb_transport.tail()"
   ]
  },
  {
   "cell_type": "code",
   "execution_count": 5,
   "metadata": {},
   "outputs": [],
   "source": [
    "amentities = pd.read_csv('./unique_amenities_counts.csv',index_col=0)"
   ]
  },
  {
   "cell_type": "code",
   "execution_count": 6,
   "metadata": {},
   "outputs": [
    {
     "data": {
      "text/html": [
       "<div>\n",
       "<style scoped>\n",
       "    .dataframe tbody tr th:only-of-type {\n",
       "        vertical-align: middle;\n",
       "    }\n",
       "\n",
       "    .dataframe tbody tr th {\n",
       "        vertical-align: top;\n",
       "    }\n",
       "\n",
       "    .dataframe thead th {\n",
       "        text-align: right;\n",
       "    }\n",
       "</style>\n",
       "<table border=\"1\" class=\"dataframe\">\n",
       "  <thead>\n",
       "    <tr style=\"text-align: right;\">\n",
       "      <th></th>\n",
       "      <th>HERE_address</th>\n",
       "      <th>Latitude</th>\n",
       "      <th>Longitude</th>\n",
       "      <th>schs_1km</th>\n",
       "      <th>schs_2km</th>\n",
       "      <th>sap_sch_1km</th>\n",
       "      <th>sap_sch_2km</th>\n",
       "      <th>autonomous_sch_1km</th>\n",
       "      <th>autonomous_sch_2km</th>\n",
       "      <th>gifted_sch_1km</th>\n",
       "      <th>gifted_sch_2km</th>\n",
       "      <th>ip_sch_1km</th>\n",
       "      <th>ip_sch_2km</th>\n",
       "      <th>hawker_1km</th>\n",
       "      <th>hawker_2km</th>\n",
       "      <th>supermarket_1km</th>\n",
       "      <th>supermarket_2km</th>\n",
       "    </tr>\n",
       "  </thead>\n",
       "  <tbody>\n",
       "    <tr>\n",
       "      <th>0</th>\n",
       "      <td>174 ANG MO KIO AVE 4 Singapore</td>\n",
       "      <td>1.37541</td>\n",
       "      <td>103.83740</td>\n",
       "      <td>6</td>\n",
       "      <td>14</td>\n",
       "      <td>1</td>\n",
       "      <td>2</td>\n",
       "      <td>1</td>\n",
       "      <td>2</td>\n",
       "      <td>0</td>\n",
       "      <td>0</td>\n",
       "      <td>1</td>\n",
       "      <td>1</td>\n",
       "      <td>5</td>\n",
       "      <td>8</td>\n",
       "      <td>4</td>\n",
       "      <td>10</td>\n",
       "    </tr>\n",
       "    <tr>\n",
       "      <th>13</th>\n",
       "      <td>541 ANG MO KIO AVE 10 Singapore</td>\n",
       "      <td>1.37412</td>\n",
       "      <td>103.85576</td>\n",
       "      <td>3</td>\n",
       "      <td>11</td>\n",
       "      <td>0</td>\n",
       "      <td>0</td>\n",
       "      <td>1</td>\n",
       "      <td>1</td>\n",
       "      <td>0</td>\n",
       "      <td>0</td>\n",
       "      <td>0</td>\n",
       "      <td>0</td>\n",
       "      <td>2</td>\n",
       "      <td>10</td>\n",
       "      <td>4</td>\n",
       "      <td>15</td>\n",
       "    </tr>\n",
       "    <tr>\n",
       "      <th>24</th>\n",
       "      <td>163 ANG MO KIO AVE 4 Singapore</td>\n",
       "      <td>1.37387</td>\n",
       "      <td>103.83834</td>\n",
       "      <td>6</td>\n",
       "      <td>14</td>\n",
       "      <td>1</td>\n",
       "      <td>2</td>\n",
       "      <td>1</td>\n",
       "      <td>2</td>\n",
       "      <td>0</td>\n",
       "      <td>0</td>\n",
       "      <td>1</td>\n",
       "      <td>1</td>\n",
       "      <td>5</td>\n",
       "      <td>8</td>\n",
       "      <td>5</td>\n",
       "      <td>12</td>\n",
       "    </tr>\n",
       "    <tr>\n",
       "      <th>33</th>\n",
       "      <td>446 ANG MO KIO AVE 10 Singapore</td>\n",
       "      <td>1.36794</td>\n",
       "      <td>103.85543</td>\n",
       "      <td>5</td>\n",
       "      <td>14</td>\n",
       "      <td>0</td>\n",
       "      <td>1</td>\n",
       "      <td>1</td>\n",
       "      <td>2</td>\n",
       "      <td>0</td>\n",
       "      <td>1</td>\n",
       "      <td>0</td>\n",
       "      <td>1</td>\n",
       "      <td>4</td>\n",
       "      <td>10</td>\n",
       "      <td>5</td>\n",
       "      <td>15</td>\n",
       "    </tr>\n",
       "    <tr>\n",
       "      <th>35</th>\n",
       "      <td>557 ANG MO KIO AVE 10 Singapore</td>\n",
       "      <td>1.37145</td>\n",
       "      <td>103.85785</td>\n",
       "      <td>3</td>\n",
       "      <td>12</td>\n",
       "      <td>0</td>\n",
       "      <td>0</td>\n",
       "      <td>1</td>\n",
       "      <td>1</td>\n",
       "      <td>0</td>\n",
       "      <td>1</td>\n",
       "      <td>0</td>\n",
       "      <td>0</td>\n",
       "      <td>2</td>\n",
       "      <td>7</td>\n",
       "      <td>4</td>\n",
       "      <td>14</td>\n",
       "    </tr>\n",
       "  </tbody>\n",
       "</table>\n",
       "</div>"
      ],
      "text/plain": [
       "                       HERE_address  Latitude  Longitude  schs_1km  schs_2km  \\\n",
       "0    174 ANG MO KIO AVE 4 Singapore   1.37541  103.83740         6        14   \n",
       "13  541 ANG MO KIO AVE 10 Singapore   1.37412  103.85576         3        11   \n",
       "24   163 ANG MO KIO AVE 4 Singapore   1.37387  103.83834         6        14   \n",
       "33  446 ANG MO KIO AVE 10 Singapore   1.36794  103.85543         5        14   \n",
       "35  557 ANG MO KIO AVE 10 Singapore   1.37145  103.85785         3        12   \n",
       "\n",
       "    sap_sch_1km  sap_sch_2km  autonomous_sch_1km  autonomous_sch_2km  \\\n",
       "0             1            2                   1                   2   \n",
       "13            0            0                   1                   1   \n",
       "24            1            2                   1                   2   \n",
       "33            0            1                   1                   2   \n",
       "35            0            0                   1                   1   \n",
       "\n",
       "    gifted_sch_1km  gifted_sch_2km  ip_sch_1km  ip_sch_2km  hawker_1km  \\\n",
       "0                0               0           1           1           5   \n",
       "13               0               0           0           0           2   \n",
       "24               0               0           1           1           5   \n",
       "33               0               1           0           1           4   \n",
       "35               0               1           0           0           2   \n",
       "\n",
       "    hawker_2km  supermarket_1km  supermarket_2km  \n",
       "0            8                4               10  \n",
       "13          10                4               15  \n",
       "24           8                5               12  \n",
       "33          10                5               15  \n",
       "35           7                4               14  "
      ]
     },
     "execution_count": 6,
     "metadata": {},
     "output_type": "execute_result"
    }
   ],
   "source": [
    "amentities.head()"
   ]
  },
  {
   "cell_type": "code",
   "execution_count": 7,
   "metadata": {},
   "outputs": [],
   "source": [
    "#Merge the amenities information\n",
    "hdb_amenities = hdb_transport.merge(amentities.drop(['Latitude','Longitude'],axis=1), how='inner', on='HERE_address')"
   ]
  },
  {
   "cell_type": "code",
   "execution_count": 8,
   "metadata": {},
   "outputs": [
    {
     "data": {
      "text/plain": [
       "Index(['month', 'town', 'flat_type', 'block', 'street_name', 'storey_range',\n",
       "       'floor_area_sqm', 'flat_model', 'lease_commence_date',\n",
       "       'remaining_lease', 'resale_price', 'HERE_address', 'Latitude',\n",
       "       'Longitude', 'closest_mrt', 'dist_mrt_km', 'closest_cp', 'dist_cp_km',\n",
       "       'schs_1km', 'schs_2km', 'sap_sch_1km', 'sap_sch_2km',\n",
       "       'autonomous_sch_1km', 'autonomous_sch_2km', 'gifted_sch_1km',\n",
       "       'gifted_sch_2km', 'ip_sch_1km', 'ip_sch_2km', 'hawker_1km',\n",
       "       'hawker_2km', 'supermarket_1km', 'supermarket_2km'],\n",
       "      dtype='object')"
      ]
     },
     "execution_count": 8,
     "metadata": {},
     "output_type": "execute_result"
    }
   ],
   "source": [
    "#Check the columns\n",
    "hdb_amenities.columns"
   ]
  },
  {
   "cell_type": "code",
   "execution_count": 9,
   "metadata": {},
   "outputs": [],
   "source": [
    "#One-hot encode categorical features\n",
    "dummies = pd.get_dummies(hdb_amenities[['town','storey_range','flat_model','closest_mrt']])"
   ]
  },
  {
   "cell_type": "code",
   "execution_count": 10,
   "metadata": {},
   "outputs": [],
   "source": [
    "#Remove the original categorical columns\n",
    "hdb_amenities.drop(['town','storey_range','flat_model'],axis=1,inplace=True)"
   ]
  },
  {
   "cell_type": "code",
   "execution_count": 11,
   "metadata": {},
   "outputs": [],
   "source": [
    "#Concatenate the one-hot-encoded features\n",
    "hdb_amenities_dummies = pd.concat([hdb_amenities,dummies],axis=1)"
   ]
  },
  {
   "cell_type": "code",
   "execution_count": 12,
   "metadata": {},
   "outputs": [
    {
     "data": {
      "text/plain": [
       "Index(['HERE_address', 'Latitude', 'Longitude', 'schs_1km', 'schs_2km',\n",
       "       'sap_sch_1km', 'sap_sch_2km', 'autonomous_sch_1km',\n",
       "       'autonomous_sch_2km', 'gifted_sch_1km', 'gifted_sch_2km', 'ip_sch_1km',\n",
       "       'ip_sch_2km', 'hawker_1km', 'hawker_2km', 'supermarket_1km',\n",
       "       'supermarket_2km'],\n",
       "      dtype='object')"
      ]
     },
     "execution_count": 12,
     "metadata": {},
     "output_type": "execute_result"
    }
   ],
   "source": [
    "amentities.columns"
   ]
  },
  {
   "cell_type": "code",
   "execution_count": 13,
   "metadata": {},
   "outputs": [],
   "source": [
    "hdb_1km_df = hdb_amenities_dummies.drop(['block','street_name','lease_commence_date','flat_type','HERE_address',\n",
    "                                 'Latitude', 'Longitude','closest_mrt','closest_cp',\n",
    "                                 'schs_2km','sap_sch_2km','autonomous_sch_2km','gifted_sch_2km','ip_sch_2km',\n",
    "                                 'hawker_2km','supermarket_2km'],axis=1).copy()"
   ]
  },
  {
   "cell_type": "code",
   "execution_count": 14,
   "metadata": {},
   "outputs": [],
   "source": [
    "hdb_2km_df = hdb_amenities_dummies.drop(['block','street_name','lease_commence_date','flat_type','HERE_address',\n",
    "                                 'Latitude', 'Longitude','closest_mrt','closest_cp',\n",
    "                                 'schs_1km','sap_sch_1km','autonomous_sch_1km','gifted_sch_1km','ip_sch_1km',\n",
    "                                 'hawker_1km','supermarket_1km'],axis=1).copy()"
   ]
  },
  {
   "cell_type": "markdown",
   "metadata": {},
   "source": [
    "## Modelling "
   ]
  },
  {
   "cell_type": "code",
   "execution_count": 15,
   "metadata": {},
   "outputs": [],
   "source": [
    "#Split the data for train and test \n",
    "tree_train = hdb_2km_df[~hdb_2km_df['month'].str.contains('2018')].drop(['resale_price','month'],axis=1).copy()\n",
    "tree_test = hdb_2km_df[hdb_2km_df['month'].str.contains('2018')].drop(['resale_price','month'],axis=1).copy()\n"
   ]
  },
  {
   "cell_type": "code",
   "execution_count": 16,
   "metadata": {},
   "outputs": [],
   "source": [
    "#Drop one category from each categorical feature to prevent dummy variable trap \n",
    "hdb_2km_df.drop(['town_BUKIT BATOK','storey_range_01 TO 03','flat_model_2-room','dist_cp_km'],axis=1,inplace=True)"
   ]
  },
  {
   "cell_type": "code",
   "execution_count": 17,
   "metadata": {},
   "outputs": [],
   "source": [
    "#Split the data for train and test \n",
    "X_train = hdb_2km_df[~hdb_2km_df['month'].str.contains('2018')].drop(['resale_price','month'],axis=1).copy()\n",
    "y_train = hdb_2km_df[~hdb_2km_df['month'].str.contains('2018')]['resale_price'].copy()\n",
    "X_test = hdb_2km_df[hdb_2km_df['month'].str.contains('2018')].drop(['resale_price','month'],axis=1).copy()\n",
    "y_test = hdb_2km_df[hdb_2km_df['month'].str.contains('2018')]['resale_price'].copy()"
   ]
  },
  {
   "cell_type": "code",
   "execution_count": 18,
   "metadata": {},
   "outputs": [
    {
     "name": "stdout",
     "output_type": "stream",
     "text": [
      "(57505, 157)\n",
      "(57505,)\n",
      "(21595, 157)\n",
      "(21595,)\n"
     ]
    }
   ],
   "source": [
    "#Check the shape\n",
    "print(X_train.shape)\n",
    "print(y_train.shape)\n",
    "print(X_test.shape)\n",
    "print(y_test.shape)"
   ]
  },
  {
   "cell_type": "code",
   "execution_count": 19,
   "metadata": {},
   "outputs": [],
   "source": [
    "from sklearn.preprocessing import StandardScaler\n",
    "from sklearn.linear_model import LinearRegression, Lasso, LassoCV, Ridge, RidgeCV, ElasticNet, ElasticNetCV\n",
    "from sklearn.metrics import r2_score,mean_absolute_error, mean_squared_error\n",
    "from sklearn.model_selection import cross_val_score,cross_validate, GridSearchCV\n",
    "import statsmodels.api as sm"
   ]
  },
  {
   "cell_type": "code",
   "execution_count": 20,
   "metadata": {},
   "outputs": [
    {
     "name": "stderr",
     "output_type": "stream",
     "text": [
      "C:\\Users\\kwanw\\Anaconda3\\envs\\Env2\\lib\\site-packages\\sklearn\\preprocessing\\data.py:625: DataConversionWarning: Data with input dtype uint8, int64, float64 were all converted to float64 by StandardScaler.\n",
      "  return self.partial_fit(X, y)\n",
      "C:\\Users\\kwanw\\Anaconda3\\envs\\Env2\\lib\\site-packages\\sklearn\\base.py:462: DataConversionWarning: Data with input dtype uint8, int64, float64 were all converted to float64 by StandardScaler.\n",
      "  return self.fit(X, **fit_params).transform(X)\n",
      "C:\\Users\\kwanw\\Anaconda3\\envs\\Env2\\lib\\site-packages\\ipykernel_launcher.py:4: DataConversionWarning: Data with input dtype uint8, int64, float64 were all converted to float64 by StandardScaler.\n",
      "  after removing the cwd from sys.path.\n"
     ]
    }
   ],
   "source": [
    "#Standardise variables\n",
    "ss = StandardScaler()\n",
    "Xs_train = ss.fit_transform(X_train)\n",
    "Xs_test = ss.transform(X_test)"
   ]
  },
  {
   "cell_type": "markdown",
   "metadata": {},
   "source": [
    "## Simple Linear Regression"
   ]
  },
  {
   "cell_type": "code",
   "execution_count": 21,
   "metadata": {},
   "outputs": [],
   "source": [
    "lr=LinearRegression()"
   ]
  },
  {
   "cell_type": "code",
   "execution_count": 22,
   "metadata": {},
   "outputs": [],
   "source": [
    "def model_scores_cv(estimator,X,y):\n",
    "    \"\"\"\n",
    "    This function takes a model with the independent and target variables and returns a list of \n",
    "    the cross validated mean r2 score and standard deviation as well as the mean RMSE and standard deviation.\n",
    "    \"\"\"\n",
    "    scores = cross_validate(estimator,X,y,n_jobs=-1,cv=10,scoring =['r2','neg_mean_squared_error'])\n",
    "    \n",
    "    mean_r2_score = round(scores['test_r2'].mean(),4)\n",
    "    std_r2 = round(scores['test_r2'].std(),4)\n",
    "    \n",
    "    print(\"Mean r2 score: \", mean_r2_score, '±', std_r2)\n",
    "    \n",
    "    mean_rmse_score = round(np.sqrt(scores['test_neg_mean_squared_error']*(-1)).mean(),4)\n",
    "    rmse_std = round(np.sqrt(scores['test_neg_mean_squared_error']*(-1)).std(),4)\n",
    "    \n",
    "    print(\"Mean RMSE score: \", mean_rmse_score, '±', rmse_std)\n",
    "    \n",
    "    return [mean_r2_score, std_r2, mean_rmse_score, rmse_std]"
   ]
  },
  {
   "cell_type": "code",
   "execution_count": 23,
   "metadata": {},
   "outputs": [
    {
     "name": "stdout",
     "output_type": "stream",
     "text": [
      "Mean r2 score:  0.9021 ± 0.0139\n",
      "Mean RMSE score:  43012.2313 ± 1783.5158\n"
     ]
    }
   ],
   "source": [
    "#Run cross validation on training set\n",
    "lr_scores = model_scores_cv(lr,X_train,y_train)"
   ]
  },
  {
   "cell_type": "code",
   "execution_count": 24,
   "metadata": {},
   "outputs": [],
   "source": [
    "comparison_df = pd.DataFrame({'model_name':[],'train_r2_mean':[],'train_r2_std':[],'train_RMSE_mean':[],'train_RMSE_std':[]})\n",
    "def add_model_train(name,results_list):\n",
    "    \"\"\"\n",
    "    This function takes in a name and a list of scores for summary comparison (training set)\n",
    "    \"\"\"\n",
    "    global comparison_df\n",
    "    comparison_df = comparison_df.append(pd.Series(([name]+results_list),\n",
    "                               index=['model_name','train_r2_mean','train_r2_std','train_RMSE_mean','train_RMSE_std']),\n",
    "                     ignore_index=True)\n",
    "    return comparison_df"
   ]
  },
  {
   "cell_type": "code",
   "execution_count": 25,
   "metadata": {},
   "outputs": [
    {
     "data": {
      "text/html": [
       "<div>\n",
       "<style scoped>\n",
       "    .dataframe tbody tr th:only-of-type {\n",
       "        vertical-align: middle;\n",
       "    }\n",
       "\n",
       "    .dataframe tbody tr th {\n",
       "        vertical-align: top;\n",
       "    }\n",
       "\n",
       "    .dataframe thead th {\n",
       "        text-align: right;\n",
       "    }\n",
       "</style>\n",
       "<table border=\"1\" class=\"dataframe\">\n",
       "  <thead>\n",
       "    <tr style=\"text-align: right;\">\n",
       "      <th></th>\n",
       "      <th>model_name</th>\n",
       "      <th>train_r2_mean</th>\n",
       "      <th>train_r2_std</th>\n",
       "      <th>train_RMSE_mean</th>\n",
       "      <th>train_RMSE_std</th>\n",
       "    </tr>\n",
       "  </thead>\n",
       "  <tbody>\n",
       "    <tr>\n",
       "      <th>0</th>\n",
       "      <td>Simple Linear Regression</td>\n",
       "      <td>0.9021</td>\n",
       "      <td>0.0139</td>\n",
       "      <td>43012.2313</td>\n",
       "      <td>1783.5158</td>\n",
       "    </tr>\n",
       "  </tbody>\n",
       "</table>\n",
       "</div>"
      ],
      "text/plain": [
       "                 model_name  train_r2_mean  train_r2_std  train_RMSE_mean  \\\n",
       "0  Simple Linear Regression         0.9021        0.0139       43012.2313   \n",
       "\n",
       "   train_RMSE_std  \n",
       "0       1783.5158  "
      ]
     },
     "execution_count": 25,
     "metadata": {},
     "output_type": "execute_result"
    }
   ],
   "source": [
    "#Add to the training scores table for comparison\n",
    "add_model_train('Simple Linear Regression',lr_scores)"
   ]
  },
  {
   "cell_type": "code",
   "execution_count": 26,
   "metadata": {},
   "outputs": [],
   "source": [
    "def model_test_scores(model,X_trn,y_trn,X_tst,y_tst,cols):\n",
    "    \"\"\"\n",
    "    This function takes in a name and a list of scores for summary comparison (test set)\n",
    "    \"\"\"\n",
    "    final_model = model.fit(X_trn,y_trn)\n",
    "    \n",
    "    predictions = model.predict(X_tst)\n",
    "    \n",
    "    score = r2_score(y_tst,predictions)\n",
    "    rmse = round(np.sqrt(mean_squared_error(y_tst,predictions)),2)\n",
    "    \n",
    "    #Print the results\n",
    "    print('Test r2 score: ', score)\n",
    "    print('Test Mean Squared Error: ', rmse)\n",
    "    \n",
    "    coef_summary = pd.DataFrame({'Features':cols,'coef':model.coef_,'abs coef':abs(model.coef_)})\n",
    "    \n",
    "    return coef_summary, score, rmse, predictions"
   ]
  },
  {
   "cell_type": "code",
   "execution_count": 27,
   "metadata": {},
   "outputs": [
    {
     "name": "stdout",
     "output_type": "stream",
     "text": [
      "Test r2 score:  0.9056450259680084\n",
      "Test Mean Squared Error:  48389.29\n"
     ]
    }
   ],
   "source": [
    "#Run the model on test set \n",
    "lr_summary, lr_score, lr_rmse, lr_predictions = model_test_scores(lr,X_train,y_train,X_test,y_test,X_train.columns)"
   ]
  },
  {
   "cell_type": "code",
   "execution_count": 28,
   "metadata": {},
   "outputs": [
    {
     "data": {
      "text/plain": [
       "count    21595.000000\n",
       "mean       441.161661\n",
       "std        157.534954\n",
       "min        160.000000\n",
       "25%        328.000000\n",
       "50%        408.000000\n",
       "75%        515.000000\n",
       "max       1185.000000\n",
       "Name: resale_price, dtype: float64"
      ]
     },
     "execution_count": 28,
     "metadata": {},
     "output_type": "execute_result"
    }
   ],
   "source": [
    "#y_test stats in thousand dollars\n",
    "(hdb_1km_df[hdb_1km_df['month'].str.contains('2018')]['resale_price']/1000).describe()"
   ]
  },
  {
   "cell_type": "code",
   "execution_count": 29,
   "metadata": {},
   "outputs": [],
   "source": [
    "comparison_test = pd.DataFrame({'model_name':[],'test_r2_mean':[],'test_RMSE_mean':[]})\n",
    "def add_model_test(name,r2,RMSE):\n",
    "    \"\"\"\n",
    "    This function takes in a name and a list of scores for summary comparison (test set)\n",
    "    \"\"\"\n",
    "    global comparison_test\n",
    "    comparison_test = comparison_test.append(pd.Series([name,r2,RMSE],\n",
    "                               index=['model_name','test_r2_mean','test_RMSE_mean']),\n",
    "                     ignore_index=True)\n",
    "    return comparison_test"
   ]
  },
  {
   "cell_type": "code",
   "execution_count": 30,
   "metadata": {},
   "outputs": [
    {
     "data": {
      "text/html": [
       "<div>\n",
       "<style scoped>\n",
       "    .dataframe tbody tr th:only-of-type {\n",
       "        vertical-align: middle;\n",
       "    }\n",
       "\n",
       "    .dataframe tbody tr th {\n",
       "        vertical-align: top;\n",
       "    }\n",
       "\n",
       "    .dataframe thead th {\n",
       "        text-align: right;\n",
       "    }\n",
       "</style>\n",
       "<table border=\"1\" class=\"dataframe\">\n",
       "  <thead>\n",
       "    <tr style=\"text-align: right;\">\n",
       "      <th></th>\n",
       "      <th>model_name</th>\n",
       "      <th>test_r2_mean</th>\n",
       "      <th>test_RMSE_mean</th>\n",
       "    </tr>\n",
       "  </thead>\n",
       "  <tbody>\n",
       "    <tr>\n",
       "      <th>0</th>\n",
       "      <td>Simple Linear Regression</td>\n",
       "      <td>0.905645</td>\n",
       "      <td>48389.29</td>\n",
       "    </tr>\n",
       "  </tbody>\n",
       "</table>\n",
       "</div>"
      ],
      "text/plain": [
       "                 model_name  test_r2_mean  test_RMSE_mean\n",
       "0  Simple Linear Regression      0.905645        48389.29"
      ]
     },
     "execution_count": 30,
     "metadata": {},
     "output_type": "execute_result"
    }
   ],
   "source": [
    "#Add results to the test scores table for comparison\n",
    "add_model_test('Simple Linear Regression',lr_score, lr_rmse)"
   ]
  },
  {
   "cell_type": "code",
   "execution_count": 31,
   "metadata": {},
   "outputs": [],
   "source": [
    "def pred_real_plots_res(y_true,y_pred,model_name):\n",
    "    '''\n",
    "    This function takes in the true target values, predicted target values and model name to plot \n",
    "    the predicted versus real target values as well as the distribution of residuals\n",
    "    '''\n",
    "    plt.figure(figsize = (12,6))\n",
    "    \n",
    "    plt.subplot(1,2,1)\n",
    "    plt.scatter(x=y_true/1000,y=y_pred/1000,c='blue',alpha=0.3,edgecolors='k')\n",
    "    plt.plot((min(np.append(y_true,y_pred))/1000,max(np.append(y_true,y_pred))/1000),\n",
    "            ((min(np.append(y_true,y_pred))/1000,max(np.append(y_true,y_pred))/1000)),c='k')\n",
    "    \n",
    "    plt.xlim=plt.ylim\n",
    "    plt.title('{} Model \\nPredicted resale price against actual resale price'.format(model_name),fontsize=13)\n",
    "    plt.xlabel('Actual Price (in thousands)',fontsize=13)\n",
    "    plt.ylabel('Predicted Price (in thousands)',fontsize=13)\n",
    "    \n",
    "    plt.subplot(1,2,2)\n",
    "    plt.hist((y_true-y_pred)/1000,bins=100,edgecolor='k',color='blue')\n",
    "    \n",
    "    plt.title('{} Model \\nDistribution of Residuals'.format(model_name),fontsize=13)\n",
    "    plt.xlabel('Residuals (in thousands)',fontsize=13)\n",
    "    plt.ylabel('Count',fontsize=13)\n",
    "    plt.grid()"
   ]
  },
  {
   "cell_type": "code",
   "execution_count": 32,
   "metadata": {},
   "outputs": [
    {
     "data": {
      "image/png": "[encoded data removed]",
      "text/plain": [
       "<Figure size 864x432 with 2 Axes>"
      ]
     },
     "metadata": {
      "needs_background": "light"
     },
     "output_type": "display_data"
    }
   ],
   "source": [
    "pred_real_plots_res(y_test,lr_predictions,'Simple Linear Regression')"
   ]
  },
  {
   "cell_type": "code",
   "execution_count": 33,
   "metadata": {},
   "outputs": [
    {
     "data": {
      "text/html": [
       "<div>\n",
       "<style scoped>\n",
       "    .dataframe tbody tr th:only-of-type {\n",
       "        vertical-align: middle;\n",
       "    }\n",
       "\n",
       "    .dataframe tbody tr th {\n",
       "        vertical-align: top;\n",
       "    }\n",
       "\n",
       "    .dataframe thead th {\n",
       "        text-align: right;\n",
       "    }\n",
       "</style>\n",
       "<table border=\"1\" class=\"dataframe\">\n",
       "  <thead>\n",
       "    <tr style=\"text-align: right;\">\n",
       "      <th></th>\n",
       "      <th>Features</th>\n",
       "      <th>coef</th>\n",
       "      <th>abs coef</th>\n",
       "    </tr>\n",
       "  </thead>\n",
       "  <tbody>\n",
       "    <tr>\n",
       "      <th>67</th>\n",
       "      <td>flat_model_Terrace</td>\n",
       "      <td>263496.662156</td>\n",
       "      <td>263496.662156</td>\n",
       "    </tr>\n",
       "    <tr>\n",
       "      <th>24</th>\n",
       "      <td>town_MARINE PARADE</td>\n",
       "      <td>206727.506507</td>\n",
       "      <td>206727.506507</td>\n",
       "    </tr>\n",
       "    <tr>\n",
       "      <th>93</th>\n",
       "      <td>closest_mrt_CHANGI AIRPORT  MRT STATION SINGAPORE</td>\n",
       "      <td>204134.681450</td>\n",
       "      <td>204134.681450</td>\n",
       "    </tr>\n",
       "    <tr>\n",
       "      <th>50</th>\n",
       "      <td>storey_range_49 TO 51</td>\n",
       "      <td>185748.576657</td>\n",
       "      <td>185748.576657</td>\n",
       "    </tr>\n",
       "    <tr>\n",
       "      <th>48</th>\n",
       "      <td>storey_range_43 TO 45</td>\n",
       "      <td>178279.453300</td>\n",
       "      <td>178279.453300</td>\n",
       "    </tr>\n",
       "    <tr>\n",
       "      <th>84</th>\n",
       "      <td>closest_mrt_BRAS BASAH  MRT STATION SINGAPORE</td>\n",
       "      <td>177862.138164</td>\n",
       "      <td>177862.138164</td>\n",
       "    </tr>\n",
       "    <tr>\n",
       "      <th>49</th>\n",
       "      <td>storey_range_46 TO 48</td>\n",
       "      <td>171392.383877</td>\n",
       "      <td>171392.383877</td>\n",
       "    </tr>\n",
       "    <tr>\n",
       "      <th>47</th>\n",
       "      <td>storey_range_40 TO 42</td>\n",
       "      <td>159790.529277</td>\n",
       "      <td>159790.529277</td>\n",
       "    </tr>\n",
       "    <tr>\n",
       "      <th>45</th>\n",
       "      <td>storey_range_34 TO 36</td>\n",
       "      <td>138113.739346</td>\n",
       "      <td>138113.739346</td>\n",
       "    </tr>\n",
       "    <tr>\n",
       "      <th>46</th>\n",
       "      <td>storey_range_37 TO 39</td>\n",
       "      <td>134062.977630</td>\n",
       "      <td>134062.977630</td>\n",
       "    </tr>\n",
       "  </tbody>\n",
       "</table>\n",
       "</div>"
      ],
      "text/plain": [
       "                                             Features           coef  \\\n",
       "67                                 flat_model_Terrace  263496.662156   \n",
       "24                                 town_MARINE PARADE  206727.506507   \n",
       "93  closest_mrt_CHANGI AIRPORT  MRT STATION SINGAPORE  204134.681450   \n",
       "50                              storey_range_49 TO 51  185748.576657   \n",
       "48                              storey_range_43 TO 45  178279.453300   \n",
       "84      closest_mrt_BRAS BASAH  MRT STATION SINGAPORE  177862.138164   \n",
       "49                              storey_range_46 TO 48  171392.383877   \n",
       "47                              storey_range_40 TO 42  159790.529277   \n",
       "45                              storey_range_34 TO 36  138113.739346   \n",
       "46                              storey_range_37 TO 39  134062.977630   \n",
       "\n",
       "         abs coef  \n",
       "67  263496.662156  \n",
       "24  206727.506507  \n",
       "93  204134.681450  \n",
       "50  185748.576657  \n",
       "48  178279.453300  \n",
       "84  177862.138164  \n",
       "49  171392.383877  \n",
       "47  159790.529277  \n",
       "45  138113.739346  \n",
       "46  134062.977630  "
      ]
     },
     "execution_count": 33,
     "metadata": {},
     "output_type": "execute_result"
    }
   ],
   "source": [
    "lr_summary.sort_values('abs coef',ascending=False).head(10)"
   ]
  },
  {
   "cell_type": "markdown",
   "metadata": {},
   "source": [
    "## Lasso"
   ]
  },
  {
   "cell_type": "code",
   "execution_count": 34,
   "metadata": {},
   "outputs": [
    {
     "name": "stdout",
     "output_type": "stream",
     "text": [
      "Mean r2 score:  0.9021 ± 0.0139\n",
      "Mean RMSE score:  43014.6142 ± 1788.6962\n"
     ]
    }
   ],
   "source": [
    "#Run cross validation on training set\n",
    "lasso=Lasso()\n",
    "lasso_scores = model_scores_cv(lasso,Xs_train,y_train)"
   ]
  },
  {
   "cell_type": "code",
   "execution_count": 35,
   "metadata": {},
   "outputs": [
    {
     "name": "stdout",
     "output_type": "stream",
     "text": [
      "Test r2 score:  0.9056360616498434\n",
      "Test Mean Squared Error:  48391.59\n"
     ]
    },
    {
     "name": "stderr",
     "output_type": "stream",
     "text": [
      "C:\\Users\\kwanw\\Anaconda3\\envs\\Env2\\lib\\site-packages\\sklearn\\linear_model\\coordinate_descent.py:492: ConvergenceWarning: Objective did not converge. You might want to increase the number of iterations. Fitting data with very small alpha may cause precision problems.\n",
      "  ConvergenceWarning)\n"
     ]
    }
   ],
   "source": [
    "#Run the model on the test set\n",
    "lasso_summary, lasso_score, lasso_rmse, lasso_predictions = model_test_scores(lasso,Xs_train,y_train,Xs_test,y_test,X_train.columns)"
   ]
  },
  {
   "cell_type": "code",
   "execution_count": 36,
   "metadata": {},
   "outputs": [
    {
     "data": {
      "image/png": "[encoded data removed]",
      "text/plain": [
       "<Figure size 864x432 with 2 Axes>"
      ]
     },
     "metadata": {
      "needs_background": "light"
     },
     "output_type": "display_data"
    }
   ],
   "source": [
    "#Check predictions and residuals\n",
    "pred_real_plots_res(y_test,lasso_predictions,'Lasso Regression')"
   ]
  },
  {
   "cell_type": "code",
   "execution_count": 37,
   "metadata": {},
   "outputs": [
    {
     "data": {
      "text/html": [
       "<div>\n",
       "<style scoped>\n",
       "    .dataframe tbody tr th:only-of-type {\n",
       "        vertical-align: middle;\n",
       "    }\n",
       "\n",
       "    .dataframe tbody tr th {\n",
       "        vertical-align: top;\n",
       "    }\n",
       "\n",
       "    .dataframe thead th {\n",
       "        text-align: right;\n",
       "    }\n",
       "</style>\n",
       "<table border=\"1\" class=\"dataframe\">\n",
       "  <thead>\n",
       "    <tr style=\"text-align: right;\">\n",
       "      <th></th>\n",
       "      <th>Features</th>\n",
       "      <th>coef</th>\n",
       "      <th>abs coef</th>\n",
       "    </tr>\n",
       "  </thead>\n",
       "  <tbody>\n",
       "    <tr>\n",
       "      <th>0</th>\n",
       "      <td>floor_area_sqm</td>\n",
       "      <td>96299.545734</td>\n",
       "      <td>96299.545734</td>\n",
       "    </tr>\n",
       "    <tr>\n",
       "      <th>1</th>\n",
       "      <td>remaining_lease</td>\n",
       "      <td>48591.419448</td>\n",
       "      <td>48591.419448</td>\n",
       "    </tr>\n",
       "    <tr>\n",
       "      <th>2</th>\n",
       "      <td>dist_mrt_km</td>\n",
       "      <td>-27673.275611</td>\n",
       "      <td>27673.275611</td>\n",
       "    </tr>\n",
       "    <tr>\n",
       "      <th>18</th>\n",
       "      <td>town_CLEMENTI</td>\n",
       "      <td>27082.438799</td>\n",
       "      <td>27082.438799</td>\n",
       "    </tr>\n",
       "    <tr>\n",
       "      <th>11</th>\n",
       "      <td>town_BEDOK</td>\n",
       "      <td>23786.839532</td>\n",
       "      <td>23786.839532</td>\n",
       "    </tr>\n",
       "    <tr>\n",
       "      <th>27</th>\n",
       "      <td>town_QUEENSTOWN</td>\n",
       "      <td>23156.898960</td>\n",
       "      <td>23156.898960</td>\n",
       "    </tr>\n",
       "    <tr>\n",
       "      <th>33</th>\n",
       "      <td>town_WOODLANDS</td>\n",
       "      <td>-18441.368015</td>\n",
       "      <td>18441.368015</td>\n",
       "    </tr>\n",
       "    <tr>\n",
       "      <th>24</th>\n",
       "      <td>town_MARINE PARADE</td>\n",
       "      <td>18267.030113</td>\n",
       "      <td>18267.030113</td>\n",
       "    </tr>\n",
       "    <tr>\n",
       "      <th>13</th>\n",
       "      <td>town_BUKIT MERAH</td>\n",
       "      <td>17545.591856</td>\n",
       "      <td>17545.591856</td>\n",
       "    </tr>\n",
       "    <tr>\n",
       "      <th>28</th>\n",
       "      <td>town_SEMBAWANG</td>\n",
       "      <td>-16901.879605</td>\n",
       "      <td>16901.879605</td>\n",
       "    </tr>\n",
       "  </tbody>\n",
       "</table>\n",
       "</div>"
      ],
      "text/plain": [
       "              Features          coef      abs coef\n",
       "0       floor_area_sqm  96299.545734  96299.545734\n",
       "1      remaining_lease  48591.419448  48591.419448\n",
       "2          dist_mrt_km -27673.275611  27673.275611\n",
       "18       town_CLEMENTI  27082.438799  27082.438799\n",
       "11          town_BEDOK  23786.839532  23786.839532\n",
       "27     town_QUEENSTOWN  23156.898960  23156.898960\n",
       "33      town_WOODLANDS -18441.368015  18441.368015\n",
       "24  town_MARINE PARADE  18267.030113  18267.030113\n",
       "13    town_BUKIT MERAH  17545.591856  17545.591856\n",
       "28      town_SEMBAWANG -16901.879605  16901.879605"
      ]
     },
     "execution_count": 37,
     "metadata": {},
     "output_type": "execute_result"
    }
   ],
   "source": [
    "#Check the coefficients\n",
    "lasso_summary.sort_values('abs coef',ascending=False).head(10)"
   ]
  },
  {
   "cell_type": "code",
   "execution_count": 38,
   "metadata": {},
   "outputs": [
    {
     "data": {
      "text/html": [
       "<div>\n",
       "<style scoped>\n",
       "    .dataframe tbody tr th:only-of-type {\n",
       "        vertical-align: middle;\n",
       "    }\n",
       "\n",
       "    .dataframe tbody tr th {\n",
       "        vertical-align: top;\n",
       "    }\n",
       "\n",
       "    .dataframe thead th {\n",
       "        text-align: right;\n",
       "    }\n",
       "</style>\n",
       "<table border=\"1\" class=\"dataframe\">\n",
       "  <thead>\n",
       "    <tr style=\"text-align: right;\">\n",
       "      <th></th>\n",
       "      <th>model_name</th>\n",
       "      <th>train_r2_mean</th>\n",
       "      <th>train_r2_std</th>\n",
       "      <th>train_RMSE_mean</th>\n",
       "      <th>train_RMSE_std</th>\n",
       "    </tr>\n",
       "  </thead>\n",
       "  <tbody>\n",
       "    <tr>\n",
       "      <th>0</th>\n",
       "      <td>Simple Linear Regression</td>\n",
       "      <td>0.9021</td>\n",
       "      <td>0.0139</td>\n",
       "      <td>43012.2313</td>\n",
       "      <td>1783.5158</td>\n",
       "    </tr>\n",
       "    <tr>\n",
       "      <th>1</th>\n",
       "      <td>Lasso Regression</td>\n",
       "      <td>0.9021</td>\n",
       "      <td>0.0139</td>\n",
       "      <td>43014.6142</td>\n",
       "      <td>1788.6962</td>\n",
       "    </tr>\n",
       "  </tbody>\n",
       "</table>\n",
       "</div>"
      ],
      "text/plain": [
       "                 model_name  train_r2_mean  train_r2_std  train_RMSE_mean  \\\n",
       "0  Simple Linear Regression         0.9021        0.0139       43012.2313   \n",
       "1          Lasso Regression         0.9021        0.0139       43014.6142   \n",
       "\n",
       "   train_RMSE_std  \n",
       "0       1783.5158  \n",
       "1       1788.6962  "
      ]
     },
     "execution_count": 38,
     "metadata": {},
     "output_type": "execute_result"
    }
   ],
   "source": [
    "#Add training scores for comparison\n",
    "add_model_train('Lasso Regression',lasso_scores)"
   ]
  },
  {
   "cell_type": "code",
   "execution_count": 39,
   "metadata": {},
   "outputs": [
    {
     "data": {
      "text/html": [
       "<div>\n",
       "<style scoped>\n",
       "    .dataframe tbody tr th:only-of-type {\n",
       "        vertical-align: middle;\n",
       "    }\n",
       "\n",
       "    .dataframe tbody tr th {\n",
       "        vertical-align: top;\n",
       "    }\n",
       "\n",
       "    .dataframe thead th {\n",
       "        text-align: right;\n",
       "    }\n",
       "</style>\n",
       "<table border=\"1\" class=\"dataframe\">\n",
       "  <thead>\n",
       "    <tr style=\"text-align: right;\">\n",
       "      <th></th>\n",
       "      <th>model_name</th>\n",
       "      <th>test_r2_mean</th>\n",
       "      <th>test_RMSE_mean</th>\n",
       "    </tr>\n",
       "  </thead>\n",
       "  <tbody>\n",
       "    <tr>\n",
       "      <th>0</th>\n",
       "      <td>Simple Linear Regression</td>\n",
       "      <td>0.905645</td>\n",
       "      <td>48389.29</td>\n",
       "    </tr>\n",
       "    <tr>\n",
       "      <th>1</th>\n",
       "      <td>Lasso Regression</td>\n",
       "      <td>0.905636</td>\n",
       "      <td>48391.59</td>\n",
       "    </tr>\n",
       "  </tbody>\n",
       "</table>\n",
       "</div>"
      ],
      "text/plain": [
       "                 model_name  test_r2_mean  test_RMSE_mean\n",
       "0  Simple Linear Regression      0.905645        48389.29\n",
       "1          Lasso Regression      0.905636        48391.59"
      ]
     },
     "execution_count": 39,
     "metadata": {},
     "output_type": "execute_result"
    }
   ],
   "source": [
    "#Add test scores for comparison\n",
    "add_model_test('Lasso Regression',lasso_score, lasso_rmse)"
   ]
  },
  {
   "cell_type": "markdown",
   "metadata": {},
   "source": [
    "## Tuned Lasso"
   ]
  },
  {
   "cell_type": "code",
   "execution_count": 40,
   "metadata": {},
   "outputs": [
    {
     "data": {
      "text/plain": [
       "LassoCV(alphas=None, copy_X=True, cv=10, eps=0.001, fit_intercept=True,\n",
       "    max_iter=1000, n_alphas=300, n_jobs=None, normalize=False,\n",
       "    positive=False, precompute='auto', random_state=None,\n",
       "    selection='cyclic', tol=0.0001, verbose=False)"
      ]
     },
     "execution_count": 40,
     "metadata": {},
     "output_type": "execute_result"
    }
   ],
   "source": [
    "#Search for optimal parameters\n",
    "lasso_alpha = LassoCV(n_alphas=300, cv=10)\n",
    "lasso_alpha.fit(Xs_train,y_train)"
   ]
  },
  {
   "cell_type": "code",
   "execution_count": 41,
   "metadata": {},
   "outputs": [
    {
     "name": "stdout",
     "output_type": "stream",
     "text": [
      "Mean r2 score:  0.9016 ± 0.0137\n",
      "Mean RMSE score:  43133.8746 ± 1910.4666\n"
     ]
    }
   ],
   "source": [
    "#Fit optimal parameters and run cross validation on training set\n",
    "lasso_reg=Lasso(lasso_alpha.alpha_)\n",
    "lasso_cv_scores = model_scores_cv(lasso_reg,Xs_train,y_train)"
   ]
  },
  {
   "cell_type": "code",
   "execution_count": 42,
   "metadata": {},
   "outputs": [
    {
     "name": "stdout",
     "output_type": "stream",
     "text": [
      "Test r2 score:  0.9046575164542818\n",
      "Test Mean Squared Error:  48641.85\n"
     ]
    }
   ],
   "source": [
    "#Run the model on the test set\n",
    "lasso_cv_summary, lasso_cv_score, lasso_cv_rmse, lasso_cv_predictions= model_test_scores(lasso_reg,Xs_train,y_train,Xs_test,y_test,X_train.columns)"
   ]
  },
  {
   "cell_type": "code",
   "execution_count": 43,
   "metadata": {},
   "outputs": [
    {
     "data": {
      "image/png": "[encoded data removed]",
      "text/plain": [
       "<Figure size 864x432 with 2 Axes>"
      ]
     },
     "metadata": {
      "needs_background": "light"
     },
     "output_type": "display_data"
    }
   ],
   "source": [
    "#Check predictions and residuals\n",
    "pred_real_plots_res(y_test,lasso_cv_predictions,'Tuned Lasso Regression')"
   ]
  },
  {
   "cell_type": "code",
   "execution_count": 44,
   "metadata": {},
   "outputs": [
    {
     "data": {
      "text/html": [
       "<div>\n",
       "<style scoped>\n",
       "    .dataframe tbody tr th:only-of-type {\n",
       "        vertical-align: middle;\n",
       "    }\n",
       "\n",
       "    .dataframe tbody tr th {\n",
       "        vertical-align: top;\n",
       "    }\n",
       "\n",
       "    .dataframe thead th {\n",
       "        text-align: right;\n",
       "    }\n",
       "</style>\n",
       "<table border=\"1\" class=\"dataframe\">\n",
       "  <thead>\n",
       "    <tr style=\"text-align: right;\">\n",
       "      <th></th>\n",
       "      <th>Features</th>\n",
       "      <th>coef</th>\n",
       "      <th>abs coef</th>\n",
       "    </tr>\n",
       "  </thead>\n",
       "  <tbody>\n",
       "    <tr>\n",
       "      <th>0</th>\n",
       "      <td>floor_area_sqm</td>\n",
       "      <td>96241.749227</td>\n",
       "      <td>96241.749227</td>\n",
       "    </tr>\n",
       "    <tr>\n",
       "      <th>1</th>\n",
       "      <td>remaining_lease</td>\n",
       "      <td>47980.165356</td>\n",
       "      <td>47980.165356</td>\n",
       "    </tr>\n",
       "    <tr>\n",
       "      <th>2</th>\n",
       "      <td>dist_mrt_km</td>\n",
       "      <td>-27489.199264</td>\n",
       "      <td>27489.199264</td>\n",
       "    </tr>\n",
       "    <tr>\n",
       "      <th>8</th>\n",
       "      <td>hawker_2km</td>\n",
       "      <td>22794.320888</td>\n",
       "      <td>22794.320888</td>\n",
       "    </tr>\n",
       "    <tr>\n",
       "      <th>28</th>\n",
       "      <td>town_SEMBAWANG</td>\n",
       "      <td>-16918.694704</td>\n",
       "      <td>16918.694704</td>\n",
       "    </tr>\n",
       "    <tr>\n",
       "      <th>33</th>\n",
       "      <td>town_WOODLANDS</td>\n",
       "      <td>-15545.280597</td>\n",
       "      <td>15545.280597</td>\n",
       "    </tr>\n",
       "    <tr>\n",
       "      <th>24</th>\n",
       "      <td>town_MARINE PARADE</td>\n",
       "      <td>15173.121485</td>\n",
       "      <td>15173.121485</td>\n",
       "    </tr>\n",
       "    <tr>\n",
       "      <th>27</th>\n",
       "      <td>town_QUEENSTOWN</td>\n",
       "      <td>14653.099511</td>\n",
       "      <td>14653.099511</td>\n",
       "    </tr>\n",
       "    <tr>\n",
       "      <th>37</th>\n",
       "      <td>storey_range_10 TO 12</td>\n",
       "      <td>13462.792748</td>\n",
       "      <td>13462.792748</td>\n",
       "    </tr>\n",
       "    <tr>\n",
       "      <th>38</th>\n",
       "      <td>storey_range_13 TO 15</td>\n",
       "      <td>12718.551743</td>\n",
       "      <td>12718.551743</td>\n",
       "    </tr>\n",
       "  </tbody>\n",
       "</table>\n",
       "</div>"
      ],
      "text/plain": [
       "                 Features          coef      abs coef\n",
       "0          floor_area_sqm  96241.749227  96241.749227\n",
       "1         remaining_lease  47980.165356  47980.165356\n",
       "2             dist_mrt_km -27489.199264  27489.199264\n",
       "8              hawker_2km  22794.320888  22794.320888\n",
       "28         town_SEMBAWANG -16918.694704  16918.694704\n",
       "33         town_WOODLANDS -15545.280597  15545.280597\n",
       "24     town_MARINE PARADE  15173.121485  15173.121485\n",
       "27        town_QUEENSTOWN  14653.099511  14653.099511\n",
       "37  storey_range_10 TO 12  13462.792748  13462.792748\n",
       "38  storey_range_13 TO 15  12718.551743  12718.551743"
      ]
     },
     "execution_count": 44,
     "metadata": {},
     "output_type": "execute_result"
    }
   ],
   "source": [
    "#Check the coefficients\n",
    "lasso_cv_summary.sort_values('abs coef',ascending=False).head(10)"
   ]
  },
  {
   "cell_type": "code",
   "execution_count": 45,
   "metadata": {},
   "outputs": [
    {
     "data": {
      "text/html": [
       "<div>\n",
       "<style scoped>\n",
       "    .dataframe tbody tr th:only-of-type {\n",
       "        vertical-align: middle;\n",
       "    }\n",
       "\n",
       "    .dataframe tbody tr th {\n",
       "        vertical-align: top;\n",
       "    }\n",
       "\n",
       "    .dataframe thead th {\n",
       "        text-align: right;\n",
       "    }\n",
       "</style>\n",
       "<table border=\"1\" class=\"dataframe\">\n",
       "  <thead>\n",
       "    <tr style=\"text-align: right;\">\n",
       "      <th></th>\n",
       "      <th>model_name</th>\n",
       "      <th>train_r2_mean</th>\n",
       "      <th>train_r2_std</th>\n",
       "      <th>train_RMSE_mean</th>\n",
       "      <th>train_RMSE_std</th>\n",
       "    </tr>\n",
       "  </thead>\n",
       "  <tbody>\n",
       "    <tr>\n",
       "      <th>0</th>\n",
       "      <td>Simple Linear Regression</td>\n",
       "      <td>0.9021</td>\n",
       "      <td>0.0139</td>\n",
       "      <td>43012.2313</td>\n",
       "      <td>1783.5158</td>\n",
       "    </tr>\n",
       "    <tr>\n",
       "      <th>1</th>\n",
       "      <td>Lasso Regression</td>\n",
       "      <td>0.9021</td>\n",
       "      <td>0.0139</td>\n",
       "      <td>43014.6142</td>\n",
       "      <td>1788.6962</td>\n",
       "    </tr>\n",
       "    <tr>\n",
       "      <th>2</th>\n",
       "      <td>Tuned Lasso</td>\n",
       "      <td>0.9016</td>\n",
       "      <td>0.0137</td>\n",
       "      <td>43133.8746</td>\n",
       "      <td>1910.4666</td>\n",
       "    </tr>\n",
       "  </tbody>\n",
       "</table>\n",
       "</div>"
      ],
      "text/plain": [
       "                 model_name  train_r2_mean  train_r2_std  train_RMSE_mean  \\\n",
       "0  Simple Linear Regression         0.9021        0.0139       43012.2313   \n",
       "1          Lasso Regression         0.9021        0.0139       43014.6142   \n",
       "2               Tuned Lasso         0.9016        0.0137       43133.8746   \n",
       "\n",
       "   train_RMSE_std  \n",
       "0       1783.5158  \n",
       "1       1788.6962  \n",
       "2       1910.4666  "
      ]
     },
     "execution_count": 45,
     "metadata": {},
     "output_type": "execute_result"
    }
   ],
   "source": [
    "#Add training scores for comparison\n",
    "add_model_train('Tuned Lasso',lasso_cv_scores)"
   ]
  },
  {
   "cell_type": "code",
   "execution_count": 46,
   "metadata": {},
   "outputs": [
    {
     "data": {
      "text/html": [
       "<div>\n",
       "<style scoped>\n",
       "    .dataframe tbody tr th:only-of-type {\n",
       "        vertical-align: middle;\n",
       "    }\n",
       "\n",
       "    .dataframe tbody tr th {\n",
       "        vertical-align: top;\n",
       "    }\n",
       "\n",
       "    .dataframe thead th {\n",
       "        text-align: right;\n",
       "    }\n",
       "</style>\n",
       "<table border=\"1\" class=\"dataframe\">\n",
       "  <thead>\n",
       "    <tr style=\"text-align: right;\">\n",
       "      <th></th>\n",
       "      <th>model_name</th>\n",
       "      <th>test_r2_mean</th>\n",
       "      <th>test_RMSE_mean</th>\n",
       "    </tr>\n",
       "  </thead>\n",
       "  <tbody>\n",
       "    <tr>\n",
       "      <th>0</th>\n",
       "      <td>Simple Linear Regression</td>\n",
       "      <td>0.905645</td>\n",
       "      <td>48389.29</td>\n",
       "    </tr>\n",
       "    <tr>\n",
       "      <th>1</th>\n",
       "      <td>Lasso Regression</td>\n",
       "      <td>0.905636</td>\n",
       "      <td>48391.59</td>\n",
       "    </tr>\n",
       "    <tr>\n",
       "      <th>2</th>\n",
       "      <td>Tuned Lasso</td>\n",
       "      <td>0.904658</td>\n",
       "      <td>48641.85</td>\n",
       "    </tr>\n",
       "  </tbody>\n",
       "</table>\n",
       "</div>"
      ],
      "text/plain": [
       "                 model_name  test_r2_mean  test_RMSE_mean\n",
       "0  Simple Linear Regression      0.905645        48389.29\n",
       "1          Lasso Regression      0.905636        48391.59\n",
       "2               Tuned Lasso      0.904658        48641.85"
      ]
     },
     "execution_count": 46,
     "metadata": {},
     "output_type": "execute_result"
    }
   ],
   "source": [
    "#Add test scores for comparison\n",
    "add_model_test('Tuned Lasso',lasso_cv_score, lasso_cv_rmse)"
   ]
  },
  {
   "cell_type": "markdown",
   "metadata": {},
   "source": [
    "## Random Forest"
   ]
  },
  {
   "cell_type": "code",
   "execution_count": 47,
   "metadata": {},
   "outputs": [],
   "source": [
    "from sklearn.ensemble import RandomForestRegressor"
   ]
  },
  {
   "cell_type": "code",
   "execution_count": 48,
   "metadata": {},
   "outputs": [],
   "source": [
    "rfr_tree = RandomForestRegressor(n_estimators=100, random_state=42)"
   ]
  },
  {
   "cell_type": "code",
   "execution_count": 49,
   "metadata": {},
   "outputs": [
    {
     "name": "stdout",
     "output_type": "stream",
     "text": [
      "Mean r2 score:  0.9509 ± 0.0112\n",
      "Mean RMSE score:  30627.1088 ± 5144.8224\n"
     ]
    }
   ],
   "source": [
    "#Run cross validation on training set\n",
    "rfr_tree_scores = model_scores_cv(rfr_tree,tree_train,y_train)"
   ]
  },
  {
   "cell_type": "code",
   "execution_count": 50,
   "metadata": {},
   "outputs": [
    {
     "data": {
      "text/plain": [
       "RandomForestRegressor(bootstrap=True, criterion='mse', max_depth=None,\n",
       "           max_features='auto', max_leaf_nodes=None,\n",
       "           min_impurity_decrease=0.0, min_impurity_split=None,\n",
       "           min_samples_leaf=1, min_samples_split=2,\n",
       "           min_weight_fraction_leaf=0.0, n_estimators=100, n_jobs=None,\n",
       "           oob_score=False, random_state=42, verbose=0, warm_start=False)"
      ]
     },
     "execution_count": 50,
     "metadata": {},
     "output_type": "execute_result"
    }
   ],
   "source": [
    "rfr_tree.fit(tree_train,y_train)"
   ]
  },
  {
   "cell_type": "code",
   "execution_count": 51,
   "metadata": {},
   "outputs": [
    {
     "name": "stdout",
     "output_type": "stream",
     "text": [
      "Test r2 score:  0.9522\n",
      "Test RMSE:  34438.66\n"
     ]
    }
   ],
   "source": [
    "#Retrieve predictions and score the model\n",
    "rfr_tree_predictions = rfr_tree.predict(tree_test)\n",
    "rfr_tree_score = round(r2_score(y_test,rfr_tree_predictions),4)\n",
    "rfr_tree_rmse = round(np.sqrt(mean_squared_error(y_test,rfr_tree_predictions)),2)\n",
    "\n",
    "print('Test r2 score: ',rfr_tree_score)\n",
    "print('Test RMSE: ',rfr_tree_rmse)"
   ]
  },
  {
   "cell_type": "code",
   "execution_count": 52,
   "metadata": {},
   "outputs": [
    {
     "data": {
      "text/plain": [
       "24986.21523172848"
      ]
     },
     "execution_count": 52,
     "metadata": {},
     "output_type": "execute_result"
    }
   ],
   "source": [
    "#Take a look at the mean absolute error\n",
    "mean_absolute_error(y_test,rfr_tree_predictions)"
   ]
  },
  {
   "cell_type": "code",
   "execution_count": 53,
   "metadata": {},
   "outputs": [
    {
     "data": {
      "image/png": "[encoded data removed]",
      "text/plain": [
       "<Figure size 864x432 with 2 Axes>"
      ]
     },
     "metadata": {
      "needs_background": "light"
     },
     "output_type": "display_data"
    }
   ],
   "source": [
    "#Check predictions and residuals\n",
    "pred_real_plots_res(y_test,rfr_tree_predictions,'Random Forest Regression')"
   ]
  },
  {
   "cell_type": "code",
   "execution_count": 54,
   "metadata": {},
   "outputs": [
    {
     "data": {
      "text/html": [
       "<div>\n",
       "<style scoped>\n",
       "    .dataframe tbody tr th:only-of-type {\n",
       "        vertical-align: middle;\n",
       "    }\n",
       "\n",
       "    .dataframe tbody tr th {\n",
       "        vertical-align: top;\n",
       "    }\n",
       "\n",
       "    .dataframe thead th {\n",
       "        text-align: right;\n",
       "    }\n",
       "</style>\n",
       "<table border=\"1\" class=\"dataframe\">\n",
       "  <thead>\n",
       "    <tr style=\"text-align: right;\">\n",
       "      <th></th>\n",
       "      <th>Features</th>\n",
       "      <th>Importance</th>\n",
       "    </tr>\n",
       "  </thead>\n",
       "  <tbody>\n",
       "    <tr>\n",
       "      <th>0</th>\n",
       "      <td>floor_area_sqm</td>\n",
       "      <td>0.474942</td>\n",
       "    </tr>\n",
       "    <tr>\n",
       "      <th>9</th>\n",
       "      <td>hawker_2km</td>\n",
       "      <td>0.204267</td>\n",
       "    </tr>\n",
       "    <tr>\n",
       "      <th>1</th>\n",
       "      <td>remaining_lease</td>\n",
       "      <td>0.063391</td>\n",
       "    </tr>\n",
       "    <tr>\n",
       "      <th>65</th>\n",
       "      <td>flat_model_New Generation</td>\n",
       "      <td>0.058556</td>\n",
       "    </tr>\n",
       "    <tr>\n",
       "      <th>2</th>\n",
       "      <td>dist_mrt_km</td>\n",
       "      <td>0.033726</td>\n",
       "    </tr>\n",
       "    <tr>\n",
       "      <th>7</th>\n",
       "      <td>gifted_sch_2km</td>\n",
       "      <td>0.019446</td>\n",
       "    </tr>\n",
       "    <tr>\n",
       "      <th>6</th>\n",
       "      <td>autonomous_sch_2km</td>\n",
       "      <td>0.014661</td>\n",
       "    </tr>\n",
       "    <tr>\n",
       "      <th>61</th>\n",
       "      <td>flat_model_Model A</td>\n",
       "      <td>0.011065</td>\n",
       "    </tr>\n",
       "    <tr>\n",
       "      <th>37</th>\n",
       "      <td>storey_range_01 TO 03</td>\n",
       "      <td>0.008830</td>\n",
       "    </tr>\n",
       "    <tr>\n",
       "      <th>4</th>\n",
       "      <td>schs_2km</td>\n",
       "      <td>0.008434</td>\n",
       "    </tr>\n",
       "  </tbody>\n",
       "</table>\n",
       "</div>"
      ],
      "text/plain": [
       "                     Features  Importance\n",
       "0              floor_area_sqm    0.474942\n",
       "9                  hawker_2km    0.204267\n",
       "1             remaining_lease    0.063391\n",
       "65  flat_model_New Generation    0.058556\n",
       "2                 dist_mrt_km    0.033726\n",
       "7              gifted_sch_2km    0.019446\n",
       "6          autonomous_sch_2km    0.014661\n",
       "61         flat_model_Model A    0.011065\n",
       "37      storey_range_01 TO 03    0.008830\n",
       "4                    schs_2km    0.008434"
      ]
     },
     "execution_count": 54,
     "metadata": {},
     "output_type": "execute_result"
    }
   ],
   "source": [
    "#Take a look at the 10 most impactful features\n",
    "rfr_tree_df = pd.DataFrame({'Features':tree_train.columns,'Importance':rfr_tree.feature_importances_})\n",
    "rfr_tree_df.sort_values('Importance', ascending=False).head(10)"
   ]
  },
  {
   "cell_type": "code",
   "execution_count": 55,
   "metadata": {},
   "outputs": [],
   "source": [
    "from rfpimp import *"
   ]
  },
  {
   "cell_type": "code",
   "execution_count": 56,
   "metadata": {},
   "outputs": [
    {
     "data": {
      "text/html": [
       "<div>\n",
       "<style scoped>\n",
       "    .dataframe tbody tr th:only-of-type {\n",
       "        vertical-align: middle;\n",
       "    }\n",
       "\n",
       "    .dataframe tbody tr th {\n",
       "        vertical-align: top;\n",
       "    }\n",
       "\n",
       "    .dataframe thead th {\n",
       "        text-align: right;\n",
       "    }\n",
       "</style>\n",
       "<table border=\"1\" class=\"dataframe\">\n",
       "  <thead>\n",
       "    <tr style=\"text-align: right;\">\n",
       "      <th></th>\n",
       "      <th>Importance</th>\n",
       "    </tr>\n",
       "    <tr>\n",
       "      <th>Feature</th>\n",
       "      <th></th>\n",
       "    </tr>\n",
       "  </thead>\n",
       "  <tbody>\n",
       "    <tr>\n",
       "      <th>floor_area_sqm</th>\n",
       "      <td>1.018614</td>\n",
       "    </tr>\n",
       "    <tr>\n",
       "      <th>hawker_2km</th>\n",
       "      <td>0.526786</td>\n",
       "    </tr>\n",
       "    <tr>\n",
       "      <th>remaining_lease</th>\n",
       "      <td>0.184443</td>\n",
       "    </tr>\n",
       "    <tr>\n",
       "      <th>dist_mrt_km</th>\n",
       "      <td>0.068990</td>\n",
       "    </tr>\n",
       "    <tr>\n",
       "      <th>autonomous_sch_2km</th>\n",
       "      <td>0.059538</td>\n",
       "    </tr>\n",
       "    <tr>\n",
       "      <th>flat_model_New Generation</th>\n",
       "      <td>0.058666</td>\n",
       "    </tr>\n",
       "    <tr>\n",
       "      <th>gifted_sch_2km</th>\n",
       "      <td>0.043787</td>\n",
       "    </tr>\n",
       "  </tbody>\n",
       "</table>\n",
       "</div>"
      ],
      "text/plain": [
       "                           Importance\n",
       "Feature                              \n",
       "floor_area_sqm               1.018614\n",
       "hawker_2km                   0.526786\n",
       "remaining_lease              0.184443\n",
       "dist_mrt_km                  0.068990\n",
       "autonomous_sch_2km           0.059538\n",
       "flat_model_New Generation    0.058666\n",
       "gifted_sch_2km               0.043787"
      ]
     },
     "execution_count": 56,
     "metadata": {},
     "output_type": "execute_result"
    }
   ],
   "source": [
    "#Take a look at the 10 most impactful features (permutated importance)\n",
    "results = importances(rfr_tree, tree_test, y_test, n_samples=-1)\n",
    "sorted_results_df = results.sort_values('Importance',ascending=False).head(7)\n",
    "sorted_results_df"
   ]
  },
  {
   "cell_type": "code",
   "execution_count": 57,
   "metadata": {},
   "outputs": [],
   "source": [
    "sorted_results_df=sorted_results_df.sort_values('Importance')"
   ]
  },
  {
   "cell_type": "code",
   "execution_count": 58,
   "metadata": {},
   "outputs": [
    {
     "data": {
      "image/png": "[encoded data removed]",
      "text/plain": [
       "<Figure size 864x576 with 1 Axes>"
      ]
     },
     "metadata": {
      "needs_background": "light"
     },
     "output_type": "display_data"
    }
   ],
   "source": [
    "#Plot the 10 most impactful features\n",
    "plt.figure(figsize=(12,8))\n",
    "plt.barh(y=sorted_results_df.index,width=sorted_results_df['Importance'],color='#0000c6')\n",
    "\n",
    "plt.title(\"Feature Importance\", fontsize=15)\n",
    "plt.xticks(fontsize=15)\n",
    "plt.yticks(fontsize=15)\n",
    "# plt.yticks(ticks=np.arange(7),labels=['Gifted Schools','Autonomous Schools',\n",
    "#                                       '(Model) New Generation','Distance to MRT',\n",
    "#                                       'Remaining Lease','Hawker Centres','Floor Area'],fontsize=15)\n",
    "plt.show()"
   ]
  },
  {
   "cell_type": "code",
   "execution_count": 59,
   "metadata": {},
   "outputs": [
    {
     "data": {
      "text/html": [
       "<div>\n",
       "<style scoped>\n",
       "    .dataframe tbody tr th:only-of-type {\n",
       "        vertical-align: middle;\n",
       "    }\n",
       "\n",
       "    .dataframe tbody tr th {\n",
       "        vertical-align: top;\n",
       "    }\n",
       "\n",
       "    .dataframe thead th {\n",
       "        text-align: right;\n",
       "    }\n",
       "</style>\n",
       "<table border=\"1\" class=\"dataframe\">\n",
       "  <thead>\n",
       "    <tr style=\"text-align: right;\">\n",
       "      <th></th>\n",
       "      <th>model_name</th>\n",
       "      <th>train_r2_mean</th>\n",
       "      <th>train_r2_std</th>\n",
       "      <th>train_RMSE_mean</th>\n",
       "      <th>train_RMSE_std</th>\n",
       "    </tr>\n",
       "  </thead>\n",
       "  <tbody>\n",
       "    <tr>\n",
       "      <th>0</th>\n",
       "      <td>Simple Linear Regression</td>\n",
       "      <td>0.9021</td>\n",
       "      <td>0.0139</td>\n",
       "      <td>43012.2313</td>\n",
       "      <td>1783.5158</td>\n",
       "    </tr>\n",
       "    <tr>\n",
       "      <th>1</th>\n",
       "      <td>Lasso Regression</td>\n",
       "      <td>0.9021</td>\n",
       "      <td>0.0139</td>\n",
       "      <td>43014.6142</td>\n",
       "      <td>1788.6962</td>\n",
       "    </tr>\n",
       "    <tr>\n",
       "      <th>2</th>\n",
       "      <td>Tuned Lasso</td>\n",
       "      <td>0.9016</td>\n",
       "      <td>0.0137</td>\n",
       "      <td>43133.8746</td>\n",
       "      <td>1910.4666</td>\n",
       "    </tr>\n",
       "    <tr>\n",
       "      <th>3</th>\n",
       "      <td>Random Forest</td>\n",
       "      <td>0.9509</td>\n",
       "      <td>0.0112</td>\n",
       "      <td>30627.1088</td>\n",
       "      <td>5144.8224</td>\n",
       "    </tr>\n",
       "  </tbody>\n",
       "</table>\n",
       "</div>"
      ],
      "text/plain": [
       "                 model_name  train_r2_mean  train_r2_std  train_RMSE_mean  \\\n",
       "0  Simple Linear Regression         0.9021        0.0139       43012.2313   \n",
       "1          Lasso Regression         0.9021        0.0139       43014.6142   \n",
       "2               Tuned Lasso         0.9016        0.0137       43133.8746   \n",
       "3             Random Forest         0.9509        0.0112       30627.1088   \n",
       "\n",
       "   train_RMSE_std  \n",
       "0       1783.5158  \n",
       "1       1788.6962  \n",
       "2       1910.4666  \n",
       "3       5144.8224  "
      ]
     },
     "execution_count": 59,
     "metadata": {},
     "output_type": "execute_result"
    }
   ],
   "source": [
    "#Add to the training scores table for comparison\n",
    "add_model_train('Random Forest',rfr_tree_scores)"
   ]
  },
  {
   "cell_type": "code",
   "execution_count": 60,
   "metadata": {},
   "outputs": [
    {
     "data": {
      "text/html": [
       "<div>\n",
       "<style scoped>\n",
       "    .dataframe tbody tr th:only-of-type {\n",
       "        vertical-align: middle;\n",
       "    }\n",
       "\n",
       "    .dataframe tbody tr th {\n",
       "        vertical-align: top;\n",
       "    }\n",
       "\n",
       "    .dataframe thead th {\n",
       "        text-align: right;\n",
       "    }\n",
       "</style>\n",
       "<table border=\"1\" class=\"dataframe\">\n",
       "  <thead>\n",
       "    <tr style=\"text-align: right;\">\n",
       "      <th></th>\n",
       "      <th>model_name</th>\n",
       "      <th>test_r2_mean</th>\n",
       "      <th>test_RMSE_mean</th>\n",
       "    </tr>\n",
       "  </thead>\n",
       "  <tbody>\n",
       "    <tr>\n",
       "      <th>0</th>\n",
       "      <td>Simple Linear Regression</td>\n",
       "      <td>0.905645</td>\n",
       "      <td>48389.29</td>\n",
       "    </tr>\n",
       "    <tr>\n",
       "      <th>1</th>\n",
       "      <td>Lasso Regression</td>\n",
       "      <td>0.905636</td>\n",
       "      <td>48391.59</td>\n",
       "    </tr>\n",
       "    <tr>\n",
       "      <th>2</th>\n",
       "      <td>Tuned Lasso</td>\n",
       "      <td>0.904658</td>\n",
       "      <td>48641.85</td>\n",
       "    </tr>\n",
       "    <tr>\n",
       "      <th>3</th>\n",
       "      <td>Random Forest</td>\n",
       "      <td>0.952200</td>\n",
       "      <td>34438.66</td>\n",
       "    </tr>\n",
       "  </tbody>\n",
       "</table>\n",
       "</div>"
      ],
      "text/plain": [
       "                 model_name  test_r2_mean  test_RMSE_mean\n",
       "0  Simple Linear Regression      0.905645        48389.29\n",
       "1          Lasso Regression      0.905636        48391.59\n",
       "2               Tuned Lasso      0.904658        48641.85\n",
       "3             Random Forest      0.952200        34438.66"
      ]
     },
     "execution_count": 60,
     "metadata": {},
     "output_type": "execute_result"
    }
   ],
   "source": [
    "#Add results to the test scores table for comparison\n",
    "add_model_test('Random Forest',rfr_tree_score, rfr_tree_rmse)"
   ]
  },
  {
   "cell_type": "code",
   "execution_count": 83,
   "metadata": {},
   "outputs": [
    {
     "name": "stdout",
     "output_type": "stream",
     "text": [
      "mean absolute error: $24986.22\n",
      "max error: $272123.57\n",
      "max % error: 101.08\n",
      "avg % error: 6.01\n"
     ]
    }
   ],
   "source": [
    "#Get more statistics of the predictions\n",
    "print('mean absolute error: ${:.2f}'.format(mean_absolute_error(y_test,rfr_tree_predictions)))\n",
    "print('max error: ${:.2f}'.format(max(y_test-rfr_tree_predictions)))\n",
    "print('max % error: {:.2f}'.format(max(abs(y_test-rfr_tree_predictions)/y_test)*100))\n",
    "print('avg % error: {:.2f}'.format((sum((abs(y_test-rfr_tree_predictions)/y_test))/len(y_test)*100)))"
   ]
  },
  {
   "cell_type": "markdown",
   "metadata": {},
   "source": [
    "## Log Price"
   ]
  },
  {
   "cell_type": "code",
   "execution_count": 62,
   "metadata": {},
   "outputs": [
    {
     "name": "stdout",
     "output_type": "stream",
     "text": [
      "Mean r2 score:  -0.0342 ± 0.0413\n",
      "Mean RMSE score:  0.2959 ± 0.0191\n"
     ]
    }
   ],
   "source": [
    "#Search for optimal parameters\n",
    "lasso_log_alpha = LassoCV(n_alphas=300, cv=10)\n",
    "lasso_log_alpha.fit(Xs_train,np.log(y_train))\n",
    "\n",
    "#Fit optimal parameters and run cross validation on training set\n",
    "lasso_log_reg=Lasso(lasso_log_alpha.alpha_)\n",
    "lasso_log_cv_scores = model_scores_cv(lasso_reg,Xs_train,np.log(y_train))"
   ]
  },
  {
   "cell_type": "code",
   "execution_count": 63,
   "metadata": {},
   "outputs": [
    {
     "data": {
      "text/plain": [
       "Lasso(alpha=0.00020824653990204908, copy_X=True, fit_intercept=True,\n",
       "   max_iter=1000, normalize=False, positive=False, precompute=False,\n",
       "   random_state=None, selection='cyclic', tol=0.0001, warm_start=False)"
      ]
     },
     "execution_count": 63,
     "metadata": {},
     "output_type": "execute_result"
    }
   ],
   "source": [
    "#Fit the full training data\n",
    "lasso_log_reg.fit(Xs_train,np.log(y_train))"
   ]
  },
  {
   "cell_type": "code",
   "execution_count": 64,
   "metadata": {},
   "outputs": [],
   "source": [
    "#Retrieve the predictions\n",
    "log_predictions = lasso_log_reg.predict(Xs_test)"
   ]
  },
  {
   "cell_type": "code",
   "execution_count": 65,
   "metadata": {},
   "outputs": [
    {
     "data": {
      "text/plain": [
       "44679.92145173414"
      ]
     },
     "execution_count": 65,
     "metadata": {},
     "output_type": "execute_result"
    }
   ],
   "source": [
    "#Convert back to actual dollars to make sense of the findings\n",
    "np.sqrt(mean_squared_error(y_test,np.exp(log_predictions)))"
   ]
  },
  {
   "cell_type": "code",
   "execution_count": 66,
   "metadata": {},
   "outputs": [
    {
     "data": {
      "image/png": "[encoded data removed]",
      "text/plain": [
       "<Figure size 864x432 with 2 Axes>"
      ]
     },
     "metadata": {
      "needs_background": "light"
     },
     "output_type": "display_data"
    }
   ],
   "source": [
    "#Check predictions and residuals\n",
    "pred_real_plots_res(y_test,np.exp(log_predictions),'Log Lasso Regression')"
   ]
  },
  {
   "cell_type": "code",
   "execution_count": 67,
   "metadata": {},
   "outputs": [
    {
     "data": {
      "text/html": [
       "<div>\n",
       "<style scoped>\n",
       "    .dataframe tbody tr th:only-of-type {\n",
       "        vertical-align: middle;\n",
       "    }\n",
       "\n",
       "    .dataframe tbody tr th {\n",
       "        vertical-align: top;\n",
       "    }\n",
       "\n",
       "    .dataframe thead th {\n",
       "        text-align: right;\n",
       "    }\n",
       "</style>\n",
       "<table border=\"1\" class=\"dataframe\">\n",
       "  <thead>\n",
       "    <tr style=\"text-align: right;\">\n",
       "      <th></th>\n",
       "      <th>Features</th>\n",
       "      <th>coef</th>\n",
       "      <th>abs coef</th>\n",
       "    </tr>\n",
       "  </thead>\n",
       "  <tbody>\n",
       "    <tr>\n",
       "      <th>0</th>\n",
       "      <td>floor_area_sqm</td>\n",
       "      <td>96241.749227</td>\n",
       "      <td>96241.749227</td>\n",
       "    </tr>\n",
       "    <tr>\n",
       "      <th>1</th>\n",
       "      <td>remaining_lease</td>\n",
       "      <td>47980.165356</td>\n",
       "      <td>47980.165356</td>\n",
       "    </tr>\n",
       "    <tr>\n",
       "      <th>2</th>\n",
       "      <td>dist_mrt_km</td>\n",
       "      <td>-27489.199264</td>\n",
       "      <td>27489.199264</td>\n",
       "    </tr>\n",
       "    <tr>\n",
       "      <th>8</th>\n",
       "      <td>hawker_2km</td>\n",
       "      <td>22794.320888</td>\n",
       "      <td>22794.320888</td>\n",
       "    </tr>\n",
       "    <tr>\n",
       "      <th>28</th>\n",
       "      <td>town_SEMBAWANG</td>\n",
       "      <td>-16918.694704</td>\n",
       "      <td>16918.694704</td>\n",
       "    </tr>\n",
       "    <tr>\n",
       "      <th>33</th>\n",
       "      <td>town_WOODLANDS</td>\n",
       "      <td>-15545.280597</td>\n",
       "      <td>15545.280597</td>\n",
       "    </tr>\n",
       "    <tr>\n",
       "      <th>24</th>\n",
       "      <td>town_MARINE PARADE</td>\n",
       "      <td>15173.121485</td>\n",
       "      <td>15173.121485</td>\n",
       "    </tr>\n",
       "    <tr>\n",
       "      <th>27</th>\n",
       "      <td>town_QUEENSTOWN</td>\n",
       "      <td>14653.099511</td>\n",
       "      <td>14653.099511</td>\n",
       "    </tr>\n",
       "    <tr>\n",
       "      <th>37</th>\n",
       "      <td>storey_range_10 TO 12</td>\n",
       "      <td>13462.792748</td>\n",
       "      <td>13462.792748</td>\n",
       "    </tr>\n",
       "    <tr>\n",
       "      <th>38</th>\n",
       "      <td>storey_range_13 TO 15</td>\n",
       "      <td>12718.551743</td>\n",
       "      <td>12718.551743</td>\n",
       "    </tr>\n",
       "  </tbody>\n",
       "</table>\n",
       "</div>"
      ],
      "text/plain": [
       "                 Features          coef      abs coef\n",
       "0          floor_area_sqm  96241.749227  96241.749227\n",
       "1         remaining_lease  47980.165356  47980.165356\n",
       "2             dist_mrt_km -27489.199264  27489.199264\n",
       "8              hawker_2km  22794.320888  22794.320888\n",
       "28         town_SEMBAWANG -16918.694704  16918.694704\n",
       "33         town_WOODLANDS -15545.280597  15545.280597\n",
       "24     town_MARINE PARADE  15173.121485  15173.121485\n",
       "27        town_QUEENSTOWN  14653.099511  14653.099511\n",
       "37  storey_range_10 TO 12  13462.792748  13462.792748\n",
       "38  storey_range_13 TO 15  12718.551743  12718.551743"
      ]
     },
     "execution_count": 67,
     "metadata": {},
     "output_type": "execute_result"
    }
   ],
   "source": [
    "#Check the coefficients\n",
    "pd.DataFrame({'Features':X_train.columns,'coef':lasso_reg.coef_,'abs coef':abs(lasso_reg.coef_)}).sort_values('abs coef',ascending=False).head(10)"
   ]
  },
  {
   "cell_type": "markdown",
   "metadata": {},
   "source": [
    "## Tuned Random Forest"
   ]
  },
  {
   "cell_type": "code",
   "execution_count": 68,
   "metadata": {},
   "outputs": [],
   "source": [
    "#Create search hyperparameters\n",
    "rfr_search = RandomForestRegressor()\n",
    "rfr_params = {\n",
    "    'n_estimators':[100,200],\n",
    "    'min_samples_split':[2,5,8,10],\n",
    "    'max_depth':[2,5,10,20,50,75,100],\n",
    "    'n_jobs':[-1],\n",
    "    'random_state':[42]\n",
    "}"
   ]
  },
  {
   "cell_type": "code",
   "execution_count": 69,
   "metadata": {},
   "outputs": [],
   "source": [
    "rfr_grid = GridSearchCV(rfr_search,param_grid=rfr_params,n_jobs=-1,cv=10,verbose=1, scoring='neg_mean_squared_error')"
   ]
  },
  {
   "cell_type": "code",
   "execution_count": 70,
   "metadata": {},
   "outputs": [
    {
     "name": "stdout",
     "output_type": "stream",
     "text": [
      "Fitting 10 folds for each of 56 candidates, totalling 560 fits\n"
     ]
    },
    {
     "name": "stderr",
     "output_type": "stream",
     "text": [
      "[Parallel(n_jobs=-1)]: Using backend LokyBackend with 8 concurrent workers.\n",
      "[Parallel(n_jobs=-1)]: Done  34 tasks      | elapsed:  1.3min\n",
      "[Parallel(n_jobs=-1)]: Done 184 tasks      | elapsed: 11.9min\n",
      "[Parallel(n_jobs=-1)]: Done 434 tasks      | elapsed: 57.1min\n",
      "[Parallel(n_jobs=-1)]: Done 560 out of 560 | elapsed: 81.2min finished\n"
     ]
    },
    {
     "data": {
      "text/plain": [
       "GridSearchCV(cv=10, error_score='raise-deprecating',\n",
       "       estimator=RandomForestRegressor(bootstrap=True, criterion='mse', max_depth=None,\n",
       "           max_features='auto', max_leaf_nodes=None,\n",
       "           min_impurity_decrease=0.0, min_impurity_split=None,\n",
       "           min_samples_leaf=1, min_samples_split=2,\n",
       "           min_weight_fraction_leaf=0.0, n_estimators='warn', n_jobs=None,\n",
       "           oob_score=False, random_state=None, verbose=0, warm_start=False),\n",
       "       fit_params=None, iid='warn', n_jobs=-1,\n",
       "       param_grid={'n_estimators': [100, 200], 'min_samples_split': [2, 5, 8, 10], 'max_depth': [2, 5, 10, 20, 50, 75, 100], 'n_jobs': [-1], 'random_state': [42]},\n",
       "       pre_dispatch='2*n_jobs', refit=True, return_train_score='warn',\n",
       "       scoring='neg_mean_squared_error', verbose=1)"
      ]
     },
     "execution_count": 70,
     "metadata": {},
     "output_type": "execute_result"
    }
   ],
   "source": [
    "rfr_grid.fit(tree_train,y_train)"
   ]
  },
  {
   "cell_type": "code",
   "execution_count": 71,
   "metadata": {},
   "outputs": [
    {
     "data": {
      "text/plain": [
       "RandomForestRegressor(bootstrap=True, criterion='mse', max_depth=75,\n",
       "           max_features='auto', max_leaf_nodes=None,\n",
       "           min_impurity_decrease=0.0, min_impurity_split=None,\n",
       "           min_samples_leaf=1, min_samples_split=5,\n",
       "           min_weight_fraction_leaf=0.0, n_estimators=200, n_jobs=-1,\n",
       "           oob_score=False, random_state=42, verbose=0, warm_start=False)"
      ]
     },
     "execution_count": 71,
     "metadata": {},
     "output_type": "execute_result"
    }
   ],
   "source": [
    "#Check the tuned hyperparameters\n",
    "rfr_grid.best_estimator_"
   ]
  },
  {
   "cell_type": "code",
   "execution_count": 72,
   "metadata": {},
   "outputs": [
    {
     "name": "stdout",
     "output_type": "stream",
     "text": [
      "Mean r2 score:  0.9512 ± 0.0119\n",
      "Mean RMSE score:  30511.4814 ± 5322.397\n"
     ]
    }
   ],
   "source": [
    "#Retrieve cross validated training scores\n",
    "rfr_grid_scores = model_scores_cv(rfr_grid.best_estimator_,tree_train,y_train)"
   ]
  },
  {
   "cell_type": "code",
   "execution_count": 73,
   "metadata": {},
   "outputs": [
    {
     "data": {
      "text/html": [
       "<div>\n",
       "<style scoped>\n",
       "    .dataframe tbody tr th:only-of-type {\n",
       "        vertical-align: middle;\n",
       "    }\n",
       "\n",
       "    .dataframe tbody tr th {\n",
       "        vertical-align: top;\n",
       "    }\n",
       "\n",
       "    .dataframe thead th {\n",
       "        text-align: right;\n",
       "    }\n",
       "</style>\n",
       "<table border=\"1\" class=\"dataframe\">\n",
       "  <thead>\n",
       "    <tr style=\"text-align: right;\">\n",
       "      <th></th>\n",
       "      <th>model_name</th>\n",
       "      <th>train_r2_mean</th>\n",
       "      <th>train_r2_std</th>\n",
       "      <th>train_RMSE_mean</th>\n",
       "      <th>train_RMSE_std</th>\n",
       "    </tr>\n",
       "  </thead>\n",
       "  <tbody>\n",
       "    <tr>\n",
       "      <th>0</th>\n",
       "      <td>Simple Linear Regression</td>\n",
       "      <td>0.9021</td>\n",
       "      <td>0.0139</td>\n",
       "      <td>43012.2313</td>\n",
       "      <td>1783.5158</td>\n",
       "    </tr>\n",
       "    <tr>\n",
       "      <th>1</th>\n",
       "      <td>Lasso Regression</td>\n",
       "      <td>0.9021</td>\n",
       "      <td>0.0139</td>\n",
       "      <td>43014.6142</td>\n",
       "      <td>1788.6962</td>\n",
       "    </tr>\n",
       "    <tr>\n",
       "      <th>2</th>\n",
       "      <td>Tuned Lasso</td>\n",
       "      <td>0.9016</td>\n",
       "      <td>0.0137</td>\n",
       "      <td>43133.8746</td>\n",
       "      <td>1910.4666</td>\n",
       "    </tr>\n",
       "    <tr>\n",
       "      <th>3</th>\n",
       "      <td>Random Forest</td>\n",
       "      <td>0.9509</td>\n",
       "      <td>0.0112</td>\n",
       "      <td>30627.1088</td>\n",
       "      <td>5144.8224</td>\n",
       "    </tr>\n",
       "    <tr>\n",
       "      <th>4</th>\n",
       "      <td>Tuned Random Forest</td>\n",
       "      <td>0.9512</td>\n",
       "      <td>0.0119</td>\n",
       "      <td>30511.4814</td>\n",
       "      <td>5322.3970</td>\n",
       "    </tr>\n",
       "  </tbody>\n",
       "</table>\n",
       "</div>"
      ],
      "text/plain": [
       "                 model_name  train_r2_mean  train_r2_std  train_RMSE_mean  \\\n",
       "0  Simple Linear Regression         0.9021        0.0139       43012.2313   \n",
       "1          Lasso Regression         0.9021        0.0139       43014.6142   \n",
       "2               Tuned Lasso         0.9016        0.0137       43133.8746   \n",
       "3             Random Forest         0.9509        0.0112       30627.1088   \n",
       "4       Tuned Random Forest         0.9512        0.0119       30511.4814   \n",
       "\n",
       "   train_RMSE_std  \n",
       "0       1783.5158  \n",
       "1       1788.6962  \n",
       "2       1910.4666  \n",
       "3       5144.8224  \n",
       "4       5322.3970  "
      ]
     },
     "execution_count": 73,
     "metadata": {},
     "output_type": "execute_result"
    }
   ],
   "source": [
    "#Add to the training scores table for comparison\n",
    "add_model_train('Tuned Random Forest',rfr_grid_scores)"
   ]
  },
  {
   "cell_type": "code",
   "execution_count": 74,
   "metadata": {},
   "outputs": [],
   "source": [
    "#Retrieve predictions\n",
    "rfr_tuned = rfr_grid.best_estimator_\n",
    "rfr_tuned.fit(tree_train,y_train)\n",
    "rfr_tuned_predictions = rfr_grid.best_estimator_.predict(tree_test)"
   ]
  },
  {
   "cell_type": "code",
   "execution_count": 75,
   "metadata": {},
   "outputs": [
    {
     "name": "stdout",
     "output_type": "stream",
     "text": [
      "Test r2 score:  0.9525\n",
      "Test RMSE:  34339.44\n"
     ]
    }
   ],
   "source": [
    "#Retrieve test scores\n",
    "rfr_tuned_score = round(r2_score(y_test,rfr_tuned_predictions),4)\n",
    "rfr_tuned_rmse = round(np.sqrt(mean_squared_error(y_test,rfr_tuned_predictions)),2)\n",
    "\n",
    "print('Test r2 score: ',rfr_tuned_score)\n",
    "print('Test RMSE: ',rfr_tuned_rmse)"
   ]
  },
  {
   "cell_type": "code",
   "execution_count": 76,
   "metadata": {},
   "outputs": [
    {
     "data": {
      "text/plain": [
       "24961.435078267168"
      ]
     },
     "execution_count": 76,
     "metadata": {},
     "output_type": "execute_result"
    }
   ],
   "source": [
    "#Take a look at the MAE\n",
    "mean_absolute_error(y_test,rfr_tuned_predictions)"
   ]
  },
  {
   "cell_type": "code",
   "execution_count": 77,
   "metadata": {},
   "outputs": [
    {
     "data": {
      "text/html": [
       "<div>\n",
       "<style scoped>\n",
       "    .dataframe tbody tr th:only-of-type {\n",
       "        vertical-align: middle;\n",
       "    }\n",
       "\n",
       "    .dataframe tbody tr th {\n",
       "        vertical-align: top;\n",
       "    }\n",
       "\n",
       "    .dataframe thead th {\n",
       "        text-align: right;\n",
       "    }\n",
       "</style>\n",
       "<table border=\"1\" class=\"dataframe\">\n",
       "  <thead>\n",
       "    <tr style=\"text-align: right;\">\n",
       "      <th></th>\n",
       "      <th>model_name</th>\n",
       "      <th>test_r2_mean</th>\n",
       "      <th>test_RMSE_mean</th>\n",
       "    </tr>\n",
       "  </thead>\n",
       "  <tbody>\n",
       "    <tr>\n",
       "      <th>0</th>\n",
       "      <td>Simple Linear Regression</td>\n",
       "      <td>0.905645</td>\n",
       "      <td>48389.29</td>\n",
       "    </tr>\n",
       "    <tr>\n",
       "      <th>1</th>\n",
       "      <td>Lasso Regression</td>\n",
       "      <td>0.905636</td>\n",
       "      <td>48391.59</td>\n",
       "    </tr>\n",
       "    <tr>\n",
       "      <th>2</th>\n",
       "      <td>Tuned Lasso</td>\n",
       "      <td>0.904658</td>\n",
       "      <td>48641.85</td>\n",
       "    </tr>\n",
       "    <tr>\n",
       "      <th>3</th>\n",
       "      <td>Random Forest</td>\n",
       "      <td>0.952200</td>\n",
       "      <td>34438.66</td>\n",
       "    </tr>\n",
       "    <tr>\n",
       "      <th>4</th>\n",
       "      <td>Tuned Random Forest</td>\n",
       "      <td>0.952500</td>\n",
       "      <td>34339.44</td>\n",
       "    </tr>\n",
       "  </tbody>\n",
       "</table>\n",
       "</div>"
      ],
      "text/plain": [
       "                 model_name  test_r2_mean  test_RMSE_mean\n",
       "0  Simple Linear Regression      0.905645        48389.29\n",
       "1          Lasso Regression      0.905636        48391.59\n",
       "2               Tuned Lasso      0.904658        48641.85\n",
       "3             Random Forest      0.952200        34438.66\n",
       "4       Tuned Random Forest      0.952500        34339.44"
      ]
     },
     "execution_count": 77,
     "metadata": {},
     "output_type": "execute_result"
    }
   ],
   "source": [
    "#Add results to the test scores table for comparison\n",
    "add_model_test('Tuned Random Forest',rfr_tuned_score, rfr_tuned_rmse)"
   ]
  },
  {
   "cell_type": "code",
   "execution_count": 78,
   "metadata": {},
   "outputs": [
    {
     "data": {
      "image/png": "[encoded data removed]",
      "text/plain": [
       "<Figure size 864x432 with 2 Axes>"
      ]
     },
     "metadata": {
      "needs_background": "light"
     },
     "output_type": "display_data"
    }
   ],
   "source": [
    "#Check predictions and residuals\n",
    "pred_real_plots_res(y_test,rfr_tuned_predictions,'Random Forest Regression')"
   ]
  },
  {
   "cell_type": "code",
   "execution_count": 79,
   "metadata": {},
   "outputs": [
    {
     "data": {
      "text/html": [
       "<div>\n",
       "<style scoped>\n",
       "    .dataframe tbody tr th:only-of-type {\n",
       "        vertical-align: middle;\n",
       "    }\n",
       "\n",
       "    .dataframe tbody tr th {\n",
       "        vertical-align: top;\n",
       "    }\n",
       "\n",
       "    .dataframe thead th {\n",
       "        text-align: right;\n",
       "    }\n",
       "</style>\n",
       "<table border=\"1\" class=\"dataframe\">\n",
       "  <thead>\n",
       "    <tr style=\"text-align: right;\">\n",
       "      <th></th>\n",
       "      <th>Features</th>\n",
       "      <th>Importance</th>\n",
       "    </tr>\n",
       "  </thead>\n",
       "  <tbody>\n",
       "    <tr>\n",
       "      <th>0</th>\n",
       "      <td>floor_area_sqm</td>\n",
       "      <td>0.476419</td>\n",
       "    </tr>\n",
       "    <tr>\n",
       "      <th>9</th>\n",
       "      <td>hawker_2km</td>\n",
       "      <td>0.205736</td>\n",
       "    </tr>\n",
       "    <tr>\n",
       "      <th>1</th>\n",
       "      <td>remaining_lease</td>\n",
       "      <td>0.062641</td>\n",
       "    </tr>\n",
       "    <tr>\n",
       "      <th>65</th>\n",
       "      <td>flat_model_New Generation</td>\n",
       "      <td>0.058930</td>\n",
       "    </tr>\n",
       "    <tr>\n",
       "      <th>2</th>\n",
       "      <td>dist_mrt_km</td>\n",
       "      <td>0.033377</td>\n",
       "    </tr>\n",
       "    <tr>\n",
       "      <th>7</th>\n",
       "      <td>gifted_sch_2km</td>\n",
       "      <td>0.019665</td>\n",
       "    </tr>\n",
       "    <tr>\n",
       "      <th>6</th>\n",
       "      <td>autonomous_sch_2km</td>\n",
       "      <td>0.014716</td>\n",
       "    </tr>\n",
       "    <tr>\n",
       "      <th>61</th>\n",
       "      <td>flat_model_Model A</td>\n",
       "      <td>0.011011</td>\n",
       "    </tr>\n",
       "    <tr>\n",
       "      <th>37</th>\n",
       "      <td>storey_range_01 TO 03</td>\n",
       "      <td>0.008798</td>\n",
       "    </tr>\n",
       "    <tr>\n",
       "      <th>4</th>\n",
       "      <td>schs_2km</td>\n",
       "      <td>0.008392</td>\n",
       "    </tr>\n",
       "  </tbody>\n",
       "</table>\n",
       "</div>"
      ],
      "text/plain": [
       "                     Features  Importance\n",
       "0              floor_area_sqm    0.476419\n",
       "9                  hawker_2km    0.205736\n",
       "1             remaining_lease    0.062641\n",
       "65  flat_model_New Generation    0.058930\n",
       "2                 dist_mrt_km    0.033377\n",
       "7              gifted_sch_2km    0.019665\n",
       "6          autonomous_sch_2km    0.014716\n",
       "61         flat_model_Model A    0.011011\n",
       "37      storey_range_01 TO 03    0.008798\n",
       "4                    schs_2km    0.008392"
      ]
     },
     "execution_count": 79,
     "metadata": {},
     "output_type": "execute_result"
    }
   ],
   "source": [
    "#Take a look at the 10 most impactful features\n",
    "rfr_grid_df = pd.DataFrame({'Features':tree_train.columns,'Importance':rfr_tuned.feature_importances_})\n",
    "rfr_grid_df.sort_values('Importance', ascending=False).head(10)"
   ]
  },
  {
   "cell_type": "code",
   "execution_count": 80,
   "metadata": {},
   "outputs": [
    {
     "data": {
      "text/html": [
       "<div>\n",
       "<style scoped>\n",
       "    .dataframe tbody tr th:only-of-type {\n",
       "        vertical-align: middle;\n",
       "    }\n",
       "\n",
       "    .dataframe tbody tr th {\n",
       "        vertical-align: top;\n",
       "    }\n",
       "\n",
       "    .dataframe thead th {\n",
       "        text-align: right;\n",
       "    }\n",
       "</style>\n",
       "<table border=\"1\" class=\"dataframe\">\n",
       "  <thead>\n",
       "    <tr style=\"text-align: right;\">\n",
       "      <th></th>\n",
       "      <th>Importance</th>\n",
       "    </tr>\n",
       "    <tr>\n",
       "      <th>Feature</th>\n",
       "      <th></th>\n",
       "    </tr>\n",
       "  </thead>\n",
       "  <tbody>\n",
       "    <tr>\n",
       "      <th>floor_area_sqm</th>\n",
       "      <td>1.018816</td>\n",
       "    </tr>\n",
       "    <tr>\n",
       "      <th>hawker_2km</th>\n",
       "      <td>0.504523</td>\n",
       "    </tr>\n",
       "    <tr>\n",
       "      <th>remaining_lease</th>\n",
       "      <td>0.187742</td>\n",
       "    </tr>\n",
       "    <tr>\n",
       "      <th>dist_mrt_km</th>\n",
       "      <td>0.069859</td>\n",
       "    </tr>\n",
       "    <tr>\n",
       "      <th>flat_model_New Generation</th>\n",
       "      <td>0.056923</td>\n",
       "    </tr>\n",
       "    <tr>\n",
       "      <th>autonomous_sch_2km</th>\n",
       "      <td>0.051384</td>\n",
       "    </tr>\n",
       "    <tr>\n",
       "      <th>gifted_sch_2km</th>\n",
       "      <td>0.044591</td>\n",
       "    </tr>\n",
       "    <tr>\n",
       "      <th>storey_range_01 TO 03</th>\n",
       "      <td>0.019571</td>\n",
       "    </tr>\n",
       "    <tr>\n",
       "      <th>sap_sch_2km</th>\n",
       "      <td>0.012462</td>\n",
       "    </tr>\n",
       "    <tr>\n",
       "      <th>flat_model_Model A</th>\n",
       "      <td>0.007738</td>\n",
       "    </tr>\n",
       "  </tbody>\n",
       "</table>\n",
       "</div>"
      ],
      "text/plain": [
       "                           Importance\n",
       "Feature                              \n",
       "floor_area_sqm               1.018816\n",
       "hawker_2km                   0.504523\n",
       "remaining_lease              0.187742\n",
       "dist_mrt_km                  0.069859\n",
       "flat_model_New Generation    0.056923\n",
       "autonomous_sch_2km           0.051384\n",
       "gifted_sch_2km               0.044591\n",
       "storey_range_01 TO 03        0.019571\n",
       "sap_sch_2km                  0.012462\n",
       "flat_model_Model A           0.007738"
      ]
     },
     "execution_count": 80,
     "metadata": {},
     "output_type": "execute_result"
    }
   ],
   "source": [
    "#Take a look at the 10 most impactful features (permutated importance)\n",
    "results = importances(rfr_tuned, tree_test, y_test, n_samples=-1)\n",
    "sorted_results_df = results.sort_values('Importance',ascending=False).head(10)\n",
    "sorted_results_df"
   ]
  },
  {
   "cell_type": "code",
   "execution_count": 81,
   "metadata": {},
   "outputs": [],
   "source": [
    "sorted_results_df=sorted_results_df.sort_values('Importance')"
   ]
  },
  {
   "cell_type": "code",
   "execution_count": 82,
   "metadata": {},
   "outputs": [
    {
     "data": {
      "image/png": "[encoded data removed]",
      "text/plain": [
       "<Figure size 864x576 with 1 Axes>"
      ]
     },
     "metadata": {
      "needs_background": "light"
     },
     "output_type": "display_data"
    }
   ],
   "source": [
    "#Plot the 10 most impactful features\n",
    "plt.figure(figsize=(12,8))\n",
    "plt.barh(y=sorted_results_df.sort_values('Importance',ascending=True).index,width=sorted_results_df.sort_values('Importance',ascending=True)['Importance'],color='#0000c6')\n",
    "\n",
    "plt.title(\"Feature Importance\", fontsize=15)\n",
    "plt.xticks(fontsize=15)\n",
    "plt.yticks(fontsize=15)\n",
    "plt.show()"
   ]
  },
  {
   "cell_type": "code",
   "execution_count": null,
   "metadata": {},
   "outputs": [],
   "source": []
  },
  {
   "cell_type": "code",
   "execution_count": 104,
   "metadata": {},
   "outputs": [],
   "source": [
    "#Save the Random Forest Model\n",
    "import pickle\n",
    "filename = 'finalized_RF_model.sav'\n",
    "pickle.dump(rfr_tree, open(filename, 'wb'))"
   ]
  }
 ],
 "metadata": {
  "kernelspec": {
   "display_name": "Python 3",
   "language": "python",
   "name": "python3"
  },
  "language_info": {
   "codemirror_mode": {
    "name": "ipython",
    "version": 3
   },
   "file_extension": ".py",
   "mimetype": "text/x-python",
   "name": "python",
   "nbconvert_exporter": "python",
   "pygments_lexer": "ipython3",
   "version": "3.6.8"
  }
 },
 "nbformat": 4,
 "nbformat_minor": 2
}
