{
 "cells": [
  {
   "cell_type": "code",
   "execution_count": 1,
   "metadata": {},
   "outputs": [],
   "source": [
    "import numpy as np\n",
    "import pandas as pd\n",
    "import matplotlib.pyplot as plt\n",
    "import seaborn as sns\n",
    "\n",
    "%matplotlib inline"
   ]
  },
  {
   "cell_type": "code",
   "execution_count": 2,
   "metadata": {},
   "outputs": [],
   "source": [
    "hdb_transport = pd.read_csv('./hdb_ll_mrt_cp.csv',index_col=0)"
   ]
  },
  {
   "cell_type": "code",
   "execution_count": 3,
   "metadata": {},
   "outputs": [
    {
     "data": {
      "text/html": [
       "<div>\n",
       "<style scoped>\n",
       "    .dataframe tbody tr th:only-of-type {\n",
       "        vertical-align: middle;\n",
       "    }\n",
       "\n",
       "    .dataframe tbody tr th {\n",
       "        vertical-align: top;\n",
       "    }\n",
       "\n",
       "    .dataframe thead th {\n",
       "        text-align: right;\n",
       "    }\n",
       "</style>\n",
       "<table border=\"1\" class=\"dataframe\">\n",
       "  <thead>\n",
       "    <tr style=\"text-align: right;\">\n",
       "      <th></th>\n",
       "      <th>month</th>\n",
       "      <th>town</th>\n",
       "      <th>flat_type</th>\n",
       "      <th>block</th>\n",
       "      <th>street_name</th>\n",
       "      <th>storey_range</th>\n",
       "      <th>floor_area_sqm</th>\n",
       "      <th>flat_model</th>\n",
       "      <th>lease_commence_date</th>\n",
       "      <th>remaining_lease</th>\n",
       "      <th>resale_price</th>\n",
       "      <th>HERE_address</th>\n",
       "      <th>Latitude</th>\n",
       "      <th>Longitude</th>\n",
       "      <th>closest_mrt</th>\n",
       "      <th>dist_mrt_km</th>\n",
       "      <th>closest_cp</th>\n",
       "      <th>dist_cp_km</th>\n",
       "    </tr>\n",
       "  </thead>\n",
       "  <tbody>\n",
       "    <tr>\n",
       "      <th>0</th>\n",
       "      <td>2015-01</td>\n",
       "      <td>ANG MO KIO</td>\n",
       "      <td>3 ROOM</td>\n",
       "      <td>174</td>\n",
       "      <td>ANG MO KIO AVE 4</td>\n",
       "      <td>07 TO 09</td>\n",
       "      <td>60.0</td>\n",
       "      <td>Improved</td>\n",
       "      <td>1986</td>\n",
       "      <td>70</td>\n",
       "      <td>255000.0</td>\n",
       "      <td>174 ANG MO KIO AVE 4 Singapore</td>\n",
       "      <td>1.37541</td>\n",
       "      <td>103.8374</td>\n",
       "      <td>YIO CHU KANG  MRT STATION SINGAPORE</td>\n",
       "      <td>1.0909</td>\n",
       "      <td>BLK 173/176 ANG MO KIO AVE 4</td>\n",
       "      <td>0.1152</td>\n",
       "    </tr>\n",
       "    <tr>\n",
       "      <th>1</th>\n",
       "      <td>2015-12</td>\n",
       "      <td>ANG MO KIO</td>\n",
       "      <td>3 ROOM</td>\n",
       "      <td>174</td>\n",
       "      <td>ANG MO KIO AVE 4</td>\n",
       "      <td>10 TO 12</td>\n",
       "      <td>60.0</td>\n",
       "      <td>Improved</td>\n",
       "      <td>1986</td>\n",
       "      <td>69</td>\n",
       "      <td>275000.0</td>\n",
       "      <td>174 ANG MO KIO AVE 4 Singapore</td>\n",
       "      <td>1.37541</td>\n",
       "      <td>103.8374</td>\n",
       "      <td>YIO CHU KANG  MRT STATION SINGAPORE</td>\n",
       "      <td>1.0909</td>\n",
       "      <td>BLK 173/176 ANG MO KIO AVE 4</td>\n",
       "      <td>0.1152</td>\n",
       "    </tr>\n",
       "    <tr>\n",
       "      <th>2</th>\n",
       "      <td>2016-05</td>\n",
       "      <td>ANG MO KIO</td>\n",
       "      <td>3 ROOM</td>\n",
       "      <td>174</td>\n",
       "      <td>ANG MO KIO AVE 4</td>\n",
       "      <td>04 TO 06</td>\n",
       "      <td>69.0</td>\n",
       "      <td>Improved</td>\n",
       "      <td>1986</td>\n",
       "      <td>68</td>\n",
       "      <td>310000.0</td>\n",
       "      <td>174 ANG MO KIO AVE 4 Singapore</td>\n",
       "      <td>1.37541</td>\n",
       "      <td>103.8374</td>\n",
       "      <td>YIO CHU KANG  MRT STATION SINGAPORE</td>\n",
       "      <td>1.0909</td>\n",
       "      <td>BLK 173/176 ANG MO KIO AVE 4</td>\n",
       "      <td>0.1152</td>\n",
       "    </tr>\n",
       "    <tr>\n",
       "      <th>3</th>\n",
       "      <td>2016-06</td>\n",
       "      <td>ANG MO KIO</td>\n",
       "      <td>2 ROOM</td>\n",
       "      <td>174</td>\n",
       "      <td>ANG MO KIO AVE 4</td>\n",
       "      <td>07 TO 09</td>\n",
       "      <td>45.0</td>\n",
       "      <td>Improved</td>\n",
       "      <td>1986</td>\n",
       "      <td>68</td>\n",
       "      <td>253000.0</td>\n",
       "      <td>174 ANG MO KIO AVE 4 Singapore</td>\n",
       "      <td>1.37541</td>\n",
       "      <td>103.8374</td>\n",
       "      <td>YIO CHU KANG  MRT STATION SINGAPORE</td>\n",
       "      <td>1.0909</td>\n",
       "      <td>BLK 173/176 ANG MO KIO AVE 4</td>\n",
       "      <td>0.1152</td>\n",
       "    </tr>\n",
       "    <tr>\n",
       "      <th>4</th>\n",
       "      <td>2016-11</td>\n",
       "      <td>ANG MO KIO</td>\n",
       "      <td>3 ROOM</td>\n",
       "      <td>174</td>\n",
       "      <td>ANG MO KIO AVE 4</td>\n",
       "      <td>04 TO 06</td>\n",
       "      <td>61.0</td>\n",
       "      <td>Improved</td>\n",
       "      <td>1986</td>\n",
       "      <td>68</td>\n",
       "      <td>290000.0</td>\n",
       "      <td>174 ANG MO KIO AVE 4 Singapore</td>\n",
       "      <td>1.37541</td>\n",
       "      <td>103.8374</td>\n",
       "      <td>YIO CHU KANG  MRT STATION SINGAPORE</td>\n",
       "      <td>1.0909</td>\n",
       "      <td>BLK 173/176 ANG MO KIO AVE 4</td>\n",
       "      <td>0.1152</td>\n",
       "    </tr>\n",
       "  </tbody>\n",
       "</table>\n",
       "</div>"
      ],
      "text/plain": [
       "     month        town flat_type block       street_name storey_range  \\\n",
       "0  2015-01  ANG MO KIO    3 ROOM   174  ANG MO KIO AVE 4     07 TO 09   \n",
       "1  2015-12  ANG MO KIO    3 ROOM   174  ANG MO KIO AVE 4     10 TO 12   \n",
       "2  2016-05  ANG MO KIO    3 ROOM   174  ANG MO KIO AVE 4     04 TO 06   \n",
       "3  2016-06  ANG MO KIO    2 ROOM   174  ANG MO KIO AVE 4     07 TO 09   \n",
       "4  2016-11  ANG MO KIO    3 ROOM   174  ANG MO KIO AVE 4     04 TO 06   \n",
       "\n",
       "   floor_area_sqm flat_model  lease_commence_date  remaining_lease  \\\n",
       "0            60.0   Improved                 1986               70   \n",
       "1            60.0   Improved                 1986               69   \n",
       "2            69.0   Improved                 1986               68   \n",
       "3            45.0   Improved                 1986               68   \n",
       "4            61.0   Improved                 1986               68   \n",
       "\n",
       "   resale_price                    HERE_address  Latitude  Longitude  \\\n",
       "0      255000.0  174 ANG MO KIO AVE 4 Singapore   1.37541   103.8374   \n",
       "1      275000.0  174 ANG MO KIO AVE 4 Singapore   1.37541   103.8374   \n",
       "2      310000.0  174 ANG MO KIO AVE 4 Singapore   1.37541   103.8374   \n",
       "3      253000.0  174 ANG MO KIO AVE 4 Singapore   1.37541   103.8374   \n",
       "4      290000.0  174 ANG MO KIO AVE 4 Singapore   1.37541   103.8374   \n",
       "\n",
       "                           closest_mrt  dist_mrt_km  \\\n",
       "0  YIO CHU KANG  MRT STATION SINGAPORE       1.0909   \n",
       "1  YIO CHU KANG  MRT STATION SINGAPORE       1.0909   \n",
       "2  YIO CHU KANG  MRT STATION SINGAPORE       1.0909   \n",
       "3  YIO CHU KANG  MRT STATION SINGAPORE       1.0909   \n",
       "4  YIO CHU KANG  MRT STATION SINGAPORE       1.0909   \n",
       "\n",
       "                     closest_cp  dist_cp_km  \n",
       "0  BLK 173/176 ANG MO KIO AVE 4      0.1152  \n",
       "1  BLK 173/176 ANG MO KIO AVE 4      0.1152  \n",
       "2  BLK 173/176 ANG MO KIO AVE 4      0.1152  \n",
       "3  BLK 173/176 ANG MO KIO AVE 4      0.1152  \n",
       "4  BLK 173/176 ANG MO KIO AVE 4      0.1152  "
      ]
     },
     "execution_count": 3,
     "metadata": {},
     "output_type": "execute_result"
    }
   ],
   "source": [
    "hdb_transport.head()"
   ]
  },
  {
   "cell_type": "code",
   "execution_count": 4,
   "metadata": {},
   "outputs": [],
   "source": [
    "#One hot encode categorical features\n",
    "dummies = pd.get_dummies(hdb_transport[['storey_range','flat_model']])"
   ]
  },
  {
   "cell_type": "code",
   "execution_count": 5,
   "metadata": {},
   "outputs": [],
   "source": [
    "#Remove the original categorical columns\n",
    "hdb_transport.drop(['storey_range','flat_model'],axis=1,inplace=True)"
   ]
  },
  {
   "cell_type": "code",
   "execution_count": 6,
   "metadata": {},
   "outputs": [],
   "source": [
    "#Concatenate the one-hot-encoded features\n",
    "hdb_transport_dummies = pd.concat([hdb_transport,dummies],axis=1)"
   ]
  },
  {
   "cell_type": "code",
   "execution_count": 7,
   "metadata": {},
   "outputs": [
    {
     "data": {
      "text/plain": [
       "Index(['month', 'town', 'flat_type', 'block', 'street_name', 'floor_area_sqm',\n",
       "       'lease_commence_date', 'remaining_lease', 'resale_price',\n",
       "       'HERE_address', 'Latitude', 'Longitude', 'closest_mrt', 'dist_mrt_km',\n",
       "       'closest_cp', 'dist_cp_km', 'storey_range_01 TO 03',\n",
       "       'storey_range_04 TO 06', 'storey_range_07 TO 09',\n",
       "       'storey_range_10 TO 12', 'storey_range_13 TO 15',\n",
       "       'storey_range_16 TO 18', 'storey_range_19 TO 21',\n",
       "       'storey_range_22 TO 24', 'storey_range_25 TO 27',\n",
       "       'storey_range_28 TO 30', 'storey_range_31 TO 33',\n",
       "       'storey_range_34 TO 36', 'storey_range_37 TO 39',\n",
       "       'storey_range_40 TO 42', 'storey_range_43 TO 45',\n",
       "       'storey_range_46 TO 48', 'storey_range_49 TO 51', 'flat_model_2-room',\n",
       "       'flat_model_Adjoined flat', 'flat_model_Apartment', 'flat_model_DBSS',\n",
       "       'flat_model_Improved', 'flat_model_Improved-Maisonette',\n",
       "       'flat_model_Maisonette', 'flat_model_Model A',\n",
       "       'flat_model_Model A-Maisonette', 'flat_model_Model A2',\n",
       "       'flat_model_Multi Generation', 'flat_model_New Generation',\n",
       "       'flat_model_Premium Apartment', 'flat_model_Premium Apartment Loft',\n",
       "       'flat_model_Premium Maisonette', 'flat_model_Simplified',\n",
       "       'flat_model_Standard', 'flat_model_Terrace', 'flat_model_Type S1',\n",
       "       'flat_model_Type S2'],\n",
       "      dtype='object')"
      ]
     },
     "execution_count": 7,
     "metadata": {},
     "output_type": "execute_result"
    }
   ],
   "source": [
    "#Check the columns\n",
    "hdb_transport_dummies.columns"
   ]
  },
  {
   "cell_type": "code",
   "execution_count": 8,
   "metadata": {},
   "outputs": [],
   "source": [
    "#drop the repetitive columns\n",
    "chosen_df = hdb_transport_dummies.drop(['town','block','street_name','lease_commence_date','flat_type','HERE_address',\n",
    "                                        'closest_mrt', 'dist_mrt_km','closest_cp', 'dist_cp_km',],axis=1).copy()"
   ]
  },
  {
   "cell_type": "markdown",
   "metadata": {},
   "source": [
    "## Modelling "
   ]
  },
  {
   "cell_type": "code",
   "execution_count": 9,
   "metadata": {},
   "outputs": [],
   "source": [
    "from sklearn.preprocessing import StandardScaler\n",
    "from sklearn.metrics import r2_score,mean_absolute_error, mean_squared_error\n",
    "from sklearn.model_selection import cross_val_score,cross_validate, GridSearchCV\n",
    "from sklearn.ensemble import RandomForestRegressor\n",
    "from xgboost import XGBRegressor"
   ]
  },
  {
   "cell_type": "code",
   "execution_count": 10,
   "metadata": {},
   "outputs": [],
   "source": [
    "#Split the data for train and test \n",
    "tree_train = chosen_df[~chosen_df['month'].str.contains('2018')].drop(['resale_price','month'],axis=1).copy()\n",
    "y_train = chosen_df[~chosen_df['month'].str.contains('2018')]['resale_price'].copy()\n",
    "tree_test = chosen_df[chosen_df['month'].str.contains('2018')].drop(['resale_price','month'],axis=1).copy()\n",
    "y_test = chosen_df[chosen_df['month'].str.contains('2018')]['resale_price'].copy()"
   ]
  },
  {
   "cell_type": "code",
   "execution_count": 11,
   "metadata": {},
   "outputs": [
    {
     "data": {
      "text/plain": [
       "['floor_area_sqm',\n",
       " 'remaining_lease',\n",
       " 'Latitude',\n",
       " 'Longitude',\n",
       " 'storey_range_01 TO 03',\n",
       " 'storey_range_04 TO 06',\n",
       " 'storey_range_07 TO 09',\n",
       " 'storey_range_10 TO 12',\n",
       " 'storey_range_13 TO 15',\n",
       " 'storey_range_16 TO 18',\n",
       " 'storey_range_19 TO 21',\n",
       " 'storey_range_22 TO 24',\n",
       " 'storey_range_25 TO 27',\n",
       " 'storey_range_28 TO 30',\n",
       " 'storey_range_31 TO 33',\n",
       " 'storey_range_34 TO 36',\n",
       " 'storey_range_37 TO 39',\n",
       " 'storey_range_40 TO 42',\n",
       " 'storey_range_43 TO 45',\n",
       " 'storey_range_46 TO 48',\n",
       " 'storey_range_49 TO 51',\n",
       " 'flat_model_2-room',\n",
       " 'flat_model_Adjoined flat',\n",
       " 'flat_model_Apartment',\n",
       " 'flat_model_DBSS',\n",
       " 'flat_model_Improved',\n",
       " 'flat_model_Improved-Maisonette',\n",
       " 'flat_model_Maisonette',\n",
       " 'flat_model_Model A',\n",
       " 'flat_model_Model A-Maisonette',\n",
       " 'flat_model_Model A2',\n",
       " 'flat_model_Multi Generation',\n",
       " 'flat_model_New Generation',\n",
       " 'flat_model_Premium Apartment',\n",
       " 'flat_model_Premium Apartment Loft',\n",
       " 'flat_model_Premium Maisonette',\n",
       " 'flat_model_Simplified',\n",
       " 'flat_model_Standard',\n",
       " 'flat_model_Terrace',\n",
       " 'flat_model_Type S1',\n",
       " 'flat_model_Type S2']"
      ]
     },
     "execution_count": 11,
     "metadata": {},
     "output_type": "execute_result"
    }
   ],
   "source": [
    "#Check the columns\n",
    "tree_train.columns.to_list()"
   ]
  },
  {
   "cell_type": "code",
   "execution_count": 12,
   "metadata": {},
   "outputs": [],
   "source": [
    "def model_scores_cv(estimator,X,y):\n",
    "    \"\"\"\n",
    "    This function takes a model with the independent and target variables and returns a list of \n",
    "    the cross validated mean r2 score and standard deviation as well as the mean RMSE and standard deviation.\n",
    "    \"\"\"\n",
    "    scores = cross_validate(estimator,X,y,n_jobs=-1,cv=10,scoring =['r2','neg_mean_squared_error'])\n",
    "    \n",
    "    mean_r2_score = round(scores['test_r2'].mean(),4)\n",
    "    std_r2 = round(scores['test_r2'].std(),4)\n",
    "    \n",
    "    print(\"Mean r2 score: \", mean_r2_score, '±', std_r2)\n",
    "    \n",
    "    mean_rmse_score = round(np.sqrt(scores['test_neg_mean_squared_error']*(-1)).mean(),4)\n",
    "    rmse_std = round(np.sqrt(scores['test_neg_mean_squared_error']*(-1)).std(),4)\n",
    "    \n",
    "    print(\"Mean RMSE score: \", mean_rmse_score, '±', rmse_std)\n",
    "    \n",
    "    return [mean_r2_score, std_r2, mean_rmse_score, rmse_std]"
   ]
  },
  {
   "cell_type": "code",
   "execution_count": 13,
   "metadata": {},
   "outputs": [],
   "source": [
    "comparison_df = pd.DataFrame({'model_name':[],'train_r2_mean':[],'train_r2_std':[],'train_RMSE_mean':[],'train_RMSE_std':[]})\n",
    "def add_model_train(name,results_list):\n",
    "    \"\"\"\n",
    "    This function takes in a name and a list of scores for summary comparison (training set)\n",
    "    \"\"\"\n",
    "    global comparison_df\n",
    "    comparison_df = comparison_df.append(pd.Series(([name]+results_list),\n",
    "                               index=['model_name','train_r2_mean','train_r2_std','train_RMSE_mean','train_RMSE_std']),\n",
    "                     ignore_index=True)\n",
    "    return comparison_df"
   ]
  },
  {
   "cell_type": "code",
   "execution_count": 14,
   "metadata": {},
   "outputs": [],
   "source": [
    "def model_test_scores(model,X_trn,y_trn,X_tst,y_tst,cols):\n",
    "    \"\"\"\n",
    "    This function takes a model, the train and test variables and targets as well as the variable column names,\n",
    "    returning the dataframe of variables and their coefficients, the r2, RMSE and predicted values\n",
    "    \"\"\"\n",
    "    final_model = model.fit(X_trn,y_trn)\n",
    "    \n",
    "    predictions = model.predict(X_tst)\n",
    "    \n",
    "    score = r2_score(y_tst,predictions)\n",
    "    rmse = round(np.sqrt(mean_squared_error(y_tst,predictions)),2)\n",
    "    \n",
    "    #Print the results\n",
    "    print('Test r2 score: ', score)\n",
    "    print('Test Mean Squared Error: ', rmse)\n",
    "    \n",
    "    coef_summary = pd.DataFrame({'Features':cols,'coef':model.coef_,'abs coef':abs(model.coef_)})\n",
    "    \n",
    "    return coef_summary, score, rmse, predictions"
   ]
  },
  {
   "cell_type": "code",
   "execution_count": 15,
   "metadata": {},
   "outputs": [],
   "source": [
    "comparison_test = pd.DataFrame({'model_name':[],'test_r2_mean':[],'test_RMSE_mean':[]})\n",
    "def add_model_test(name,r2,RMSE):\n",
    "    \"\"\"\n",
    "    This function takes in a name and a list of scores for summary comparison (test set)\n",
    "    \"\"\"\n",
    "    global comparison_test\n",
    "    comparison_test = comparison_test.append(pd.Series([name,r2,RMSE],\n",
    "                               index=['model_name','test_r2_mean','test_RMSE_mean']),\n",
    "                     ignore_index=True)\n",
    "    return comparison_test"
   ]
  },
  {
   "cell_type": "code",
   "execution_count": 16,
   "metadata": {},
   "outputs": [],
   "source": [
    "def pred_real_plots_res(y_true,y_pred,model_name):\n",
    "    '''\n",
    "    This function takes in the true target values, predicted target values and model name to plot \n",
    "    the predicted versus real target values as well as the distribution of residuals\n",
    "    '''\n",
    "    plt.figure(figsize = (12,6))\n",
    "    \n",
    "    plt.subplot(1,2,1)\n",
    "    plt.scatter(x=y_true/1000,y=y_pred/1000,c='blue',alpha=0.3,edgecolors='k')\n",
    "    plt.plot((min(np.append(y_true,y_pred))/1000,max(np.append(y_true,y_pred))/1000),\n",
    "            ((min(np.append(y_true,y_pred))/1000,max(np.append(y_true,y_pred))/1000)),c='k')\n",
    "    \n",
    "    plt.xlim=plt.ylim\n",
    "    plt.title('{} Model \\nPredicted resale price against actual resale price'.format(model_name),fontsize=13)\n",
    "    plt.xlabel('Actual Price (in thousands)',fontsize=13)\n",
    "    plt.ylabel('Predicted Price (in thousands)',fontsize=13)\n",
    "    \n",
    "    plt.subplot(1,2,2)\n",
    "    plt.hist((y_true-y_pred)/1000,bins=100,edgecolor='k',color='blue')\n",
    "    \n",
    "    plt.title('{} Model \\nDistribution of Residuals'.format(model_name),fontsize=13)\n",
    "    plt.xlabel('Residuals (in thousands)',fontsize=13)\n",
    "    plt.ylabel('Count',fontsize=13)\n",
    "    plt.grid()"
   ]
  },
  {
   "cell_type": "markdown",
   "metadata": {},
   "source": [
    "## Random Forest (non-drop cols)"
   ]
  },
  {
   "cell_type": "code",
   "execution_count": 18,
   "metadata": {},
   "outputs": [],
   "source": [
    "rfr_tree = RandomForestRegressor(n_estimators=100, random_state=42)"
   ]
  },
  {
   "cell_type": "code",
   "execution_count": 19,
   "metadata": {},
   "outputs": [
    {
     "name": "stdout",
     "output_type": "stream",
     "text": [
      "Mean r2 score:  0.9493 ± 0.0175\n",
      "Mean RMSE score:  30914.8224 ± 6397.4261\n"
     ]
    }
   ],
   "source": [
    "#Run cross validation on training set\n",
    "rfr_tree_scores = model_scores_cv(rfr_tree,tree_train,y_train)"
   ]
  },
  {
   "cell_type": "code",
   "execution_count": 20,
   "metadata": {},
   "outputs": [
    {
     "data": {
      "text/plain": [
       "RandomForestRegressor(bootstrap=True, criterion='mse', max_depth=None,\n",
       "           max_features='auto', max_leaf_nodes=None,\n",
       "           min_impurity_decrease=0.0, min_impurity_split=None,\n",
       "           min_samples_leaf=1, min_samples_split=2,\n",
       "           min_weight_fraction_leaf=0.0, n_estimators=100, n_jobs=None,\n",
       "           oob_score=False, random_state=42, verbose=0, warm_start=False)"
      ]
     },
     "execution_count": 20,
     "metadata": {},
     "output_type": "execute_result"
    }
   ],
   "source": [
    "rfr_tree.fit(tree_train,y_train)"
   ]
  },
  {
   "cell_type": "code",
   "execution_count": 21,
   "metadata": {},
   "outputs": [
    {
     "name": "stdout",
     "output_type": "stream",
     "text": [
      "Test r2 score:  0.9514\n",
      "Test RMSE:  34743.88\n"
     ]
    }
   ],
   "source": [
    "#Retrieve predictions and scores\n",
    "rfr_tree_predictions = rfr_tree.predict(tree_test)\n",
    "rfr_tree_score = round(r2_score(y_test,rfr_tree_predictions),4)\n",
    "rfr_tree_rmse = round(np.sqrt(mean_squared_error(y_test,rfr_tree_predictions)),2)\n",
    "\n",
    "print('Test r2 score: ',rfr_tree_score)\n",
    "print('Test RMSE: ',rfr_tree_rmse)"
   ]
  },
  {
   "cell_type": "code",
   "execution_count": 22,
   "metadata": {},
   "outputs": [
    {
     "data": {
      "text/plain": [
       "25176.571402507154"
      ]
     },
     "execution_count": 22,
     "metadata": {},
     "output_type": "execute_result"
    }
   ],
   "source": [
    "#Take a look at MAE\n",
    "mean_absolute_error(y_test,rfr_tree_predictions)"
   ]
  },
  {
   "cell_type": "code",
   "execution_count": 23,
   "metadata": {},
   "outputs": [
    {
     "data": {
      "image/png": "[encoded data removed]",
      "text/plain": [
       "<Figure size 864x432 with 2 Axes>"
      ]
     },
     "metadata": {
      "needs_background": "light"
     },
     "output_type": "display_data"
    }
   ],
   "source": [
    "#Check predictions and residuals\n",
    "pred_real_plots_res(y_test,rfr_tree_predictions,'Random Forest Regression')"
   ]
  },
  {
   "cell_type": "code",
   "execution_count": 24,
   "metadata": {},
   "outputs": [
    {
     "data": {
      "text/html": [
       "<div>\n",
       "<style scoped>\n",
       "    .dataframe tbody tr th:only-of-type {\n",
       "        vertical-align: middle;\n",
       "    }\n",
       "\n",
       "    .dataframe tbody tr th {\n",
       "        vertical-align: top;\n",
       "    }\n",
       "\n",
       "    .dataframe thead th {\n",
       "        text-align: right;\n",
       "    }\n",
       "</style>\n",
       "<table border=\"1\" class=\"dataframe\">\n",
       "  <thead>\n",
       "    <tr style=\"text-align: right;\">\n",
       "      <th></th>\n",
       "      <th>Features</th>\n",
       "      <th>Importance</th>\n",
       "    </tr>\n",
       "  </thead>\n",
       "  <tbody>\n",
       "    <tr>\n",
       "      <th>0</th>\n",
       "      <td>floor_area_sqm</td>\n",
       "      <td>0.506311</td>\n",
       "    </tr>\n",
       "    <tr>\n",
       "      <th>2</th>\n",
       "      <td>Latitude</td>\n",
       "      <td>0.248194</td>\n",
       "    </tr>\n",
       "    <tr>\n",
       "      <th>3</th>\n",
       "      <td>Longitude</td>\n",
       "      <td>0.110082</td>\n",
       "    </tr>\n",
       "    <tr>\n",
       "      <th>1</th>\n",
       "      <td>remaining_lease</td>\n",
       "      <td>0.058706</td>\n",
       "    </tr>\n",
       "    <tr>\n",
       "      <th>24</th>\n",
       "      <td>flat_model_DBSS</td>\n",
       "      <td>0.027171</td>\n",
       "    </tr>\n",
       "    <tr>\n",
       "      <th>32</th>\n",
       "      <td>flat_model_New Generation</td>\n",
       "      <td>0.012082</td>\n",
       "    </tr>\n",
       "    <tr>\n",
       "      <th>28</th>\n",
       "      <td>flat_model_Model A</td>\n",
       "      <td>0.010039</td>\n",
       "    </tr>\n",
       "    <tr>\n",
       "      <th>4</th>\n",
       "      <td>storey_range_01 TO 03</td>\n",
       "      <td>0.008436</td>\n",
       "    </tr>\n",
       "    <tr>\n",
       "      <th>5</th>\n",
       "      <td>storey_range_04 TO 06</td>\n",
       "      <td>0.003645</td>\n",
       "    </tr>\n",
       "    <tr>\n",
       "      <th>25</th>\n",
       "      <td>flat_model_Improved</td>\n",
       "      <td>0.002660</td>\n",
       "    </tr>\n",
       "  </tbody>\n",
       "</table>\n",
       "</div>"
      ],
      "text/plain": [
       "                     Features  Importance\n",
       "0              floor_area_sqm    0.506311\n",
       "2                    Latitude    0.248194\n",
       "3                   Longitude    0.110082\n",
       "1             remaining_lease    0.058706\n",
       "24            flat_model_DBSS    0.027171\n",
       "32  flat_model_New Generation    0.012082\n",
       "28         flat_model_Model A    0.010039\n",
       "4       storey_range_01 TO 03    0.008436\n",
       "5       storey_range_04 TO 06    0.003645\n",
       "25        flat_model_Improved    0.002660"
      ]
     },
     "execution_count": 24,
     "metadata": {},
     "output_type": "execute_result"
    }
   ],
   "source": [
    "#Take a look at the 10 most impactful features\n",
    "rfr_tree_df = pd.DataFrame({'Features':tree_train.columns,'Importance':rfr_tree.feature_importances_})\n",
    "rfr_tree_df.sort_values('Importance', ascending=False).head(10)"
   ]
  },
  {
   "cell_type": "code",
   "execution_count": 17,
   "metadata": {},
   "outputs": [],
   "source": [
    "from rfpimp import *"
   ]
  },
  {
   "cell_type": "code",
   "execution_count": 104,
   "metadata": {},
   "outputs": [
    {
     "data": {
      "text/html": [
       "<div>\n",
       "<style scoped>\n",
       "    .dataframe tbody tr th:only-of-type {\n",
       "        vertical-align: middle;\n",
       "    }\n",
       "\n",
       "    .dataframe tbody tr th {\n",
       "        vertical-align: top;\n",
       "    }\n",
       "\n",
       "    .dataframe thead th {\n",
       "        text-align: right;\n",
       "    }\n",
       "</style>\n",
       "<table border=\"1\" class=\"dataframe\">\n",
       "  <thead>\n",
       "    <tr style=\"text-align: right;\">\n",
       "      <th></th>\n",
       "      <th>Importance</th>\n",
       "    </tr>\n",
       "    <tr>\n",
       "      <th>Feature</th>\n",
       "      <th></th>\n",
       "    </tr>\n",
       "  </thead>\n",
       "  <tbody>\n",
       "    <tr>\n",
       "      <th>floor_area_sqm</th>\n",
       "      <td>1.072832</td>\n",
       "    </tr>\n",
       "    <tr>\n",
       "      <th>Latitude</th>\n",
       "      <td>0.737474</td>\n",
       "    </tr>\n",
       "    <tr>\n",
       "      <th>Longitude</th>\n",
       "      <td>0.299141</td>\n",
       "    </tr>\n",
       "    <tr>\n",
       "      <th>remaining_lease</th>\n",
       "      <td>0.177303</td>\n",
       "    </tr>\n",
       "    <tr>\n",
       "      <th>flat_model_DBSS</th>\n",
       "      <td>0.021960</td>\n",
       "    </tr>\n",
       "    <tr>\n",
       "      <th>storey_range_01 TO 03</th>\n",
       "      <td>0.017854</td>\n",
       "    </tr>\n",
       "    <tr>\n",
       "      <th>flat_model_Model A</th>\n",
       "      <td>0.013214</td>\n",
       "    </tr>\n",
       "    <tr>\n",
       "      <th>flat_model_New Generation</th>\n",
       "      <td>0.008775</td>\n",
       "    </tr>\n",
       "    <tr>\n",
       "      <th>storey_range_04 TO 06</th>\n",
       "      <td>0.006402</td>\n",
       "    </tr>\n",
       "    <tr>\n",
       "      <th>flat_model_Improved</th>\n",
       "      <td>0.002150</td>\n",
       "    </tr>\n",
       "  </tbody>\n",
       "</table>\n",
       "</div>"
      ],
      "text/plain": [
       "                           Importance\n",
       "Feature                              \n",
       "floor_area_sqm               1.072832\n",
       "Latitude                     0.737474\n",
       "Longitude                    0.299141\n",
       "remaining_lease              0.177303\n",
       "flat_model_DBSS              0.021960\n",
       "storey_range_01 TO 03        0.017854\n",
       "flat_model_Model A           0.013214\n",
       "flat_model_New Generation    0.008775\n",
       "storey_range_04 TO 06        0.006402\n",
       "flat_model_Improved          0.002150"
      ]
     },
     "execution_count": 104,
     "metadata": {},
     "output_type": "execute_result"
    }
   ],
   "source": [
    "#Take a look at the 10 most impactful features (permutated importance)\n",
    "results = importances(rfr_tree, tree_test, y_test, n_samples=-1)\n",
    "sorted_results_df = results.sort_values('Importance',ascending=False).head(10)\n",
    "sorted_results_df"
   ]
  },
  {
   "cell_type": "code",
   "execution_count": 105,
   "metadata": {},
   "outputs": [],
   "source": [
    "sorted_results_df=sorted_results_df.sort_values('Importance')"
   ]
  },
  {
   "cell_type": "code",
   "execution_count": 106,
   "metadata": {},
   "outputs": [
    {
     "data": {
      "image/png": "[encoded data removed]",
      "text/plain": [
       "<Figure size 864x576 with 1 Axes>"
      ]
     },
     "metadata": {
      "needs_background": "light"
     },
     "output_type": "display_data"
    }
   ],
   "source": [
    "#Plot the 10 most impactful features\n",
    "plt.figure(figsize=(12,8))\n",
    "plt.barh(y=sorted_results_df.sort_values('Importance',ascending=True).index,width=sorted_results_df.sort_values('Importance',ascending=True)['Importance'],color='#0000c6')\n",
    "\n",
    "plt.title(\"Feature Importance\", fontsize=15)\n",
    "plt.xticks(fontsize=15)\n",
    "plt.yticks(fontsize=15)\n",
    "plt.show()"
   ]
  },
  {
   "cell_type": "code",
   "execution_count": 26,
   "metadata": {},
   "outputs": [
    {
     "data": {
      "text/html": [
       "<div>\n",
       "<style scoped>\n",
       "    .dataframe tbody tr th:only-of-type {\n",
       "        vertical-align: middle;\n",
       "    }\n",
       "\n",
       "    .dataframe tbody tr th {\n",
       "        vertical-align: top;\n",
       "    }\n",
       "\n",
       "    .dataframe thead th {\n",
       "        text-align: right;\n",
       "    }\n",
       "</style>\n",
       "<table border=\"1\" class=\"dataframe\">\n",
       "  <thead>\n",
       "    <tr style=\"text-align: right;\">\n",
       "      <th></th>\n",
       "      <th>model_name</th>\n",
       "      <th>train_r2_mean</th>\n",
       "      <th>train_r2_std</th>\n",
       "      <th>train_RMSE_mean</th>\n",
       "      <th>train_RMSE_std</th>\n",
       "    </tr>\n",
       "  </thead>\n",
       "  <tbody>\n",
       "    <tr>\n",
       "      <th>0</th>\n",
       "      <td>Random Forest (all cols)</td>\n",
       "      <td>0.9493</td>\n",
       "      <td>0.0175</td>\n",
       "      <td>30914.8224</td>\n",
       "      <td>6397.4261</td>\n",
       "    </tr>\n",
       "  </tbody>\n",
       "</table>\n",
       "</div>"
      ],
      "text/plain": [
       "                 model_name  train_r2_mean  train_r2_std  train_RMSE_mean  \\\n",
       "0  Random Forest (all cols)         0.9493        0.0175       30914.8224   \n",
       "\n",
       "   train_RMSE_std  \n",
       "0       6397.4261  "
      ]
     },
     "execution_count": 26,
     "metadata": {},
     "output_type": "execute_result"
    }
   ],
   "source": [
    "#Add to the training scores table for comparison\n",
    "add_model_train('Random Forest (all cols)',rfr_tree_scores)"
   ]
  },
  {
   "cell_type": "code",
   "execution_count": 27,
   "metadata": {},
   "outputs": [
    {
     "data": {
      "text/html": [
       "<div>\n",
       "<style scoped>\n",
       "    .dataframe tbody tr th:only-of-type {\n",
       "        vertical-align: middle;\n",
       "    }\n",
       "\n",
       "    .dataframe tbody tr th {\n",
       "        vertical-align: top;\n",
       "    }\n",
       "\n",
       "    .dataframe thead th {\n",
       "        text-align: right;\n",
       "    }\n",
       "</style>\n",
       "<table border=\"1\" class=\"dataframe\">\n",
       "  <thead>\n",
       "    <tr style=\"text-align: right;\">\n",
       "      <th></th>\n",
       "      <th>model_name</th>\n",
       "      <th>test_r2_mean</th>\n",
       "      <th>test_RMSE_mean</th>\n",
       "    </tr>\n",
       "  </thead>\n",
       "  <tbody>\n",
       "    <tr>\n",
       "      <th>0</th>\n",
       "      <td>Random Forest (all cols)</td>\n",
       "      <td>0.9514</td>\n",
       "      <td>34743.88</td>\n",
       "    </tr>\n",
       "  </tbody>\n",
       "</table>\n",
       "</div>"
      ],
      "text/plain": [
       "                 model_name  test_r2_mean  test_RMSE_mean\n",
       "0  Random Forest (all cols)        0.9514        34743.88"
      ]
     },
     "execution_count": 27,
     "metadata": {},
     "output_type": "execute_result"
    }
   ],
   "source": [
    "#Add results to the test scores table for comparison\n",
    "add_model_test('Random Forest (all cols)',rfr_tree_score, rfr_tree_rmse)"
   ]
  },
  {
   "cell_type": "markdown",
   "metadata": {},
   "source": [
    "## XGBoost"
   ]
  },
  {
   "cell_type": "code",
   "execution_count": 29,
   "metadata": {},
   "outputs": [],
   "source": [
    "xgr = XGBRegressor()"
   ]
  },
  {
   "cell_type": "code",
   "execution_count": 30,
   "metadata": {},
   "outputs": [
    {
     "name": "stdout",
     "output_type": "stream",
     "text": [
      "Mean r2 score:  0.8819 ± 0.0218\n",
      "Mean RMSE score:  47438.5377 ± 6417.2376\n"
     ]
    }
   ],
   "source": [
    "#Retrieve cross validated training scores\n",
    "xgr_scores = model_scores_cv(xgr,tree_train,y_train)"
   ]
  },
  {
   "cell_type": "code",
   "execution_count": 31,
   "metadata": {},
   "outputs": [
    {
     "data": {
      "text/html": [
       "<div>\n",
       "<style scoped>\n",
       "    .dataframe tbody tr th:only-of-type {\n",
       "        vertical-align: middle;\n",
       "    }\n",
       "\n",
       "    .dataframe tbody tr th {\n",
       "        vertical-align: top;\n",
       "    }\n",
       "\n",
       "    .dataframe thead th {\n",
       "        text-align: right;\n",
       "    }\n",
       "</style>\n",
       "<table border=\"1\" class=\"dataframe\">\n",
       "  <thead>\n",
       "    <tr style=\"text-align: right;\">\n",
       "      <th></th>\n",
       "      <th>model_name</th>\n",
       "      <th>train_r2_mean</th>\n",
       "      <th>train_r2_std</th>\n",
       "      <th>train_RMSE_mean</th>\n",
       "      <th>train_RMSE_std</th>\n",
       "    </tr>\n",
       "  </thead>\n",
       "  <tbody>\n",
       "    <tr>\n",
       "      <th>0</th>\n",
       "      <td>Random Forest (all cols)</td>\n",
       "      <td>0.9493</td>\n",
       "      <td>0.0175</td>\n",
       "      <td>30914.8224</td>\n",
       "      <td>6397.4261</td>\n",
       "    </tr>\n",
       "    <tr>\n",
       "      <th>1</th>\n",
       "      <td>XGBoost (default)</td>\n",
       "      <td>0.8819</td>\n",
       "      <td>0.0218</td>\n",
       "      <td>47438.5377</td>\n",
       "      <td>6417.2376</td>\n",
       "    </tr>\n",
       "  </tbody>\n",
       "</table>\n",
       "</div>"
      ],
      "text/plain": [
       "                 model_name  train_r2_mean  train_r2_std  train_RMSE_mean  \\\n",
       "0  Random Forest (all cols)         0.9493        0.0175       30914.8224   \n",
       "1         XGBoost (default)         0.8819        0.0218       47438.5377   \n",
       "\n",
       "   train_RMSE_std  \n",
       "0       6397.4261  \n",
       "1       6417.2376  "
      ]
     },
     "execution_count": 31,
     "metadata": {},
     "output_type": "execute_result"
    }
   ],
   "source": [
    "#Add to the training scores table for comparison\n",
    "add_model_train('XGBoost (default)',xgr_scores)"
   ]
  },
  {
   "cell_type": "code",
   "execution_count": 32,
   "metadata": {},
   "outputs": [
    {
     "name": "stdout",
     "output_type": "stream",
     "text": [
      "Test r2 score:  0.8807\n",
      "Test RMSE:  54416.4\n"
     ]
    }
   ],
   "source": [
    "#Retrieve predictions and scores\n",
    "xgr.fit(tree_train,y_train)\n",
    "xgr_predictions = xgr.predict(tree_test)\n",
    "xgr_score = round(r2_score(y_test,xgr_predictions),4)\n",
    "xgr_rmse = round(np.sqrt(mean_squared_error(y_test,xgr_predictions)),2)\n",
    "\n",
    "print('Test r2 score: ',xgr_score)\n",
    "print('Test RMSE: ',xgr_rmse)"
   ]
  },
  {
   "cell_type": "code",
   "execution_count": 33,
   "metadata": {},
   "outputs": [
    {
     "data": {
      "text/html": [
       "<div>\n",
       "<style scoped>\n",
       "    .dataframe tbody tr th:only-of-type {\n",
       "        vertical-align: middle;\n",
       "    }\n",
       "\n",
       "    .dataframe tbody tr th {\n",
       "        vertical-align: top;\n",
       "    }\n",
       "\n",
       "    .dataframe thead th {\n",
       "        text-align: right;\n",
       "    }\n",
       "</style>\n",
       "<table border=\"1\" class=\"dataframe\">\n",
       "  <thead>\n",
       "    <tr style=\"text-align: right;\">\n",
       "      <th></th>\n",
       "      <th>model_name</th>\n",
       "      <th>test_r2_mean</th>\n",
       "      <th>test_RMSE_mean</th>\n",
       "    </tr>\n",
       "  </thead>\n",
       "  <tbody>\n",
       "    <tr>\n",
       "      <th>0</th>\n",
       "      <td>Random Forest (all cols)</td>\n",
       "      <td>0.9514</td>\n",
       "      <td>34743.88</td>\n",
       "    </tr>\n",
       "    <tr>\n",
       "      <th>1</th>\n",
       "      <td>XGBoost (default)</td>\n",
       "      <td>0.8807</td>\n",
       "      <td>54416.40</td>\n",
       "    </tr>\n",
       "  </tbody>\n",
       "</table>\n",
       "</div>"
      ],
      "text/plain": [
       "                 model_name  test_r2_mean  test_RMSE_mean\n",
       "0  Random Forest (all cols)        0.9514        34743.88\n",
       "1         XGBoost (default)        0.8807        54416.40"
      ]
     },
     "execution_count": 33,
     "metadata": {},
     "output_type": "execute_result"
    }
   ],
   "source": [
    "#Add results to the test scores table for comparison\n",
    "add_model_test('XGBoost (default)',xgr_score, xgr_rmse)"
   ]
  },
  {
   "cell_type": "markdown",
   "metadata": {},
   "source": [
    "## Tuned XGBoost"
   ]
  },
  {
   "cell_type": "code",
   "execution_count": 34,
   "metadata": {},
   "outputs": [],
   "source": [
    "#Create search hyperparameters\n",
    "xgr_params ={\n",
    "    \"n_estimators\":[100,150,200],\n",
    "    'max_depth':[7,9,11,13,15,17,19,21],\n",
    "    'learning_rate':[0.025,0.05,0.1,0.15],\n",
    "    'n_jobs':[-1],\n",
    "    'random_state':[42]\n",
    "}\n",
    "\n",
    "xgr_search = GridSearchCV(xgr,param_grid=xgr_params,cv=5,n_jobs=-1,verbose=1,scoring='neg_mean_squared_error')"
   ]
  },
  {
   "cell_type": "code",
   "execution_count": 35,
   "metadata": {},
   "outputs": [
    {
     "name": "stdout",
     "output_type": "stream",
     "text": [
      "Fitting 5 folds for each of 96 candidates, totalling 480 fits\n"
     ]
    },
    {
     "name": "stderr",
     "output_type": "stream",
     "text": [
      "[Parallel(n_jobs=-1)]: Using backend LokyBackend with 8 concurrent workers.\n",
      "[Parallel(n_jobs=-1)]: Done  34 tasks      | elapsed:  2.8min\n",
      "[Parallel(n_jobs=-1)]: Done 184 tasks      | elapsed: 21.6min\n",
      "[Parallel(n_jobs=-1)]: Done 434 tasks      | elapsed: 54.6min\n",
      "[Parallel(n_jobs=-1)]: Done 480 out of 480 | elapsed: 62.1min finished\n"
     ]
    }
   ],
   "source": [
    "xgr_tune = xgr_search.fit(tree_train,y_train)"
   ]
  },
  {
   "cell_type": "code",
   "execution_count": 36,
   "metadata": {},
   "outputs": [
    {
     "data": {
      "text/plain": [
       "30440.936597313703"
      ]
     },
     "execution_count": 36,
     "metadata": {},
     "output_type": "execute_result"
    }
   ],
   "source": [
    "#Check the score\n",
    "np.sqrt(xgr_tune.best_score_*-1)"
   ]
  },
  {
   "cell_type": "code",
   "execution_count": 37,
   "metadata": {},
   "outputs": [
    {
     "data": {
      "text/plain": [
       "XGBRegressor(base_score=0.5, booster='gbtree', colsample_bylevel=1,\n",
       "       colsample_bytree=1, gamma=0, learning_rate=0.15, max_delta_step=0,\n",
       "       max_depth=7, min_child_weight=1, missing=None, n_estimators=200,\n",
       "       n_jobs=-1, nthread=None, objective='reg:linear', random_state=42,\n",
       "       reg_alpha=0, reg_lambda=1, scale_pos_weight=1, seed=None,\n",
       "       silent=True, subsample=1)"
      ]
     },
     "execution_count": 37,
     "metadata": {},
     "output_type": "execute_result"
    }
   ],
   "source": [
    "#Check the tuned hyperparameters\n",
    "xgr_tune.best_estimator_"
   ]
  },
  {
   "cell_type": "code",
   "execution_count": 45,
   "metadata": {},
   "outputs": [
    {
     "name": "stdout",
     "output_type": "stream",
     "text": [
      "Mean r2 score:  0.9541 ± 0.0074\n",
      "Mean RMSE score:  29582.0242 ± 3773.7337\n"
     ]
    }
   ],
   "source": [
    "#Retrieve cross validated training scores\n",
    "xgr_tune_scores = model_scores_cv(xgr_tune.best_estimator_,tree_train,y_train)"
   ]
  },
  {
   "cell_type": "code",
   "execution_count": 39,
   "metadata": {},
   "outputs": [
    {
     "data": {
      "text/html": [
       "<div>\n",
       "<style scoped>\n",
       "    .dataframe tbody tr th:only-of-type {\n",
       "        vertical-align: middle;\n",
       "    }\n",
       "\n",
       "    .dataframe tbody tr th {\n",
       "        vertical-align: top;\n",
       "    }\n",
       "\n",
       "    .dataframe thead th {\n",
       "        text-align: right;\n",
       "    }\n",
       "</style>\n",
       "<table border=\"1\" class=\"dataframe\">\n",
       "  <thead>\n",
       "    <tr style=\"text-align: right;\">\n",
       "      <th></th>\n",
       "      <th>model_name</th>\n",
       "      <th>train_r2_mean</th>\n",
       "      <th>train_r2_std</th>\n",
       "      <th>train_RMSE_mean</th>\n",
       "      <th>train_RMSE_std</th>\n",
       "    </tr>\n",
       "  </thead>\n",
       "  <tbody>\n",
       "    <tr>\n",
       "      <th>0</th>\n",
       "      <td>Random Forest (all cols)</td>\n",
       "      <td>0.9493</td>\n",
       "      <td>0.0175</td>\n",
       "      <td>30914.8224</td>\n",
       "      <td>6397.4261</td>\n",
       "    </tr>\n",
       "    <tr>\n",
       "      <th>1</th>\n",
       "      <td>XGBoost (default)</td>\n",
       "      <td>0.8819</td>\n",
       "      <td>0.0218</td>\n",
       "      <td>47438.5377</td>\n",
       "      <td>6417.2376</td>\n",
       "    </tr>\n",
       "    <tr>\n",
       "      <th>2</th>\n",
       "      <td>Tuned XGB</td>\n",
       "      <td>0.9541</td>\n",
       "      <td>0.0074</td>\n",
       "      <td>29582.0242</td>\n",
       "      <td>3773.7337</td>\n",
       "    </tr>\n",
       "  </tbody>\n",
       "</table>\n",
       "</div>"
      ],
      "text/plain": [
       "                 model_name  train_r2_mean  train_r2_std  train_RMSE_mean  \\\n",
       "0  Random Forest (all cols)         0.9493        0.0175       30914.8224   \n",
       "1         XGBoost (default)         0.8819        0.0218       47438.5377   \n",
       "2                 Tuned XGB         0.9541        0.0074       29582.0242   \n",
       "\n",
       "   train_RMSE_std  \n",
       "0       6397.4261  \n",
       "1       6417.2376  \n",
       "2       3773.7337  "
      ]
     },
     "execution_count": 39,
     "metadata": {},
     "output_type": "execute_result"
    }
   ],
   "source": [
    "#Add to the training scores table for comparison\n",
    "add_model_train('Tuned XGB',xgr_tune_scores)"
   ]
  },
  {
   "cell_type": "code",
   "execution_count": 54,
   "metadata": {},
   "outputs": [],
   "source": [
    "def xgr_score(model,x_train,y_train,x_test,y_test): \n",
    "    '''\n",
    "    This functions takes in a model, training varaibles and target, test variables and target\n",
    "    and returns the r2 and RMSE scores\n",
    "    '''\n",
    "    model.fit(x_train,y_train)\n",
    "    model_predictions = model.predict(x_test)\n",
    "    model_score = round(r2_score(y_test,model_predictions),4)\n",
    "    model_rmse = round(np.sqrt(mean_squared_error(y_test,model_predictions)),2)\n",
    "\n",
    "    print('Test r2 score: ',model_score)\n",
    "    print('Test RMSE: ', model_rmse)\n",
    "    \n",
    "    return model_score, model_rmse"
   ]
  },
  {
   "cell_type": "code",
   "execution_count": 55,
   "metadata": {},
   "outputs": [],
   "source": [
    "tuned_xgb = xgr_tune.best_estimator_"
   ]
  },
  {
   "cell_type": "code",
   "execution_count": 56,
   "metadata": {},
   "outputs": [
    {
     "name": "stdout",
     "output_type": "stream",
     "text": [
      "Test r2 score:  0.9522\n",
      "Test RMSE:  34428.53\n"
     ]
    }
   ],
   "source": [
    "#Retrieve test scores\n",
    "xgr_tune_score, xgr_tune_rmse = xgr_score(tuned_xgb,tree_train,y_train,tree_test,y_test)"
   ]
  },
  {
   "cell_type": "code",
   "execution_count": 49,
   "metadata": {},
   "outputs": [
    {
     "data": {
      "text/html": [
       "<div>\n",
       "<style scoped>\n",
       "    .dataframe tbody tr th:only-of-type {\n",
       "        vertical-align: middle;\n",
       "    }\n",
       "\n",
       "    .dataframe tbody tr th {\n",
       "        vertical-align: top;\n",
       "    }\n",
       "\n",
       "    .dataframe thead th {\n",
       "        text-align: right;\n",
       "    }\n",
       "</style>\n",
       "<table border=\"1\" class=\"dataframe\">\n",
       "  <thead>\n",
       "    <tr style=\"text-align: right;\">\n",
       "      <th></th>\n",
       "      <th>model_name</th>\n",
       "      <th>test_r2_mean</th>\n",
       "      <th>test_RMSE_mean</th>\n",
       "    </tr>\n",
       "  </thead>\n",
       "  <tbody>\n",
       "    <tr>\n",
       "      <th>0</th>\n",
       "      <td>Random Forest (all cols)</td>\n",
       "      <td>0.9514</td>\n",
       "      <td>34743.88</td>\n",
       "    </tr>\n",
       "    <tr>\n",
       "      <th>1</th>\n",
       "      <td>XGBoost (default)</td>\n",
       "      <td>0.8807</td>\n",
       "      <td>54416.40</td>\n",
       "    </tr>\n",
       "    <tr>\n",
       "      <th>2</th>\n",
       "      <td>Tuned XGB)</td>\n",
       "      <td>0.9522</td>\n",
       "      <td>34428.53</td>\n",
       "    </tr>\n",
       "  </tbody>\n",
       "</table>\n",
       "</div>"
      ],
      "text/plain": [
       "                 model_name  test_r2_mean  test_RMSE_mean\n",
       "0  Random Forest (all cols)        0.9514        34743.88\n",
       "1         XGBoost (default)        0.8807        54416.40\n",
       "2                Tuned XGB)        0.9522        34428.53"
      ]
     },
     "execution_count": 49,
     "metadata": {},
     "output_type": "execute_result"
    }
   ],
   "source": [
    "#Add results to the test scores table for comparison\n",
    "add_model_test('Tuned XGB)',xgr_tune_score, xgr_tune_rmse)"
   ]
  },
  {
   "cell_type": "code",
   "execution_count": 50,
   "metadata": {},
   "outputs": [],
   "source": [
    "#Retrieve the predicted values\n",
    "tuned_xgb.fit(tree_train,y_train)\n",
    "xgr_tune_predictions = tuned_xgb.predict(tree_test)"
   ]
  },
  {
   "cell_type": "code",
   "execution_count": 51,
   "metadata": {},
   "outputs": [
    {
     "data": {
      "image/png": "[encoded data removed]",
      "text/plain": [
       "<Figure size 864x432 with 2 Axes>"
      ]
     },
     "metadata": {
      "needs_background": "light"
     },
     "output_type": "display_data"
    }
   ],
   "source": [
    "#Check predictions and residuals\n",
    "pred_real_plots_res(y_test,xgr_tune_predictions,'Random Forest Regression')"
   ]
  },
  {
   "cell_type": "code",
   "execution_count": 52,
   "metadata": {},
   "outputs": [],
   "source": [
    "#Record the feature importances in a DataFrame\n",
    "tuned_xgb_df = pd.DataFrame({'Features':tree_train.columns,'Importance':tuned_xgb.feature_importances_})"
   ]
  },
  {
   "cell_type": "code",
   "execution_count": 53,
   "metadata": {},
   "outputs": [
    {
     "data": {
      "text/html": [
       "<div>\n",
       "<style scoped>\n",
       "    .dataframe tbody tr th:only-of-type {\n",
       "        vertical-align: middle;\n",
       "    }\n",
       "\n",
       "    .dataframe tbody tr th {\n",
       "        vertical-align: top;\n",
       "    }\n",
       "\n",
       "    .dataframe thead th {\n",
       "        text-align: right;\n",
       "    }\n",
       "</style>\n",
       "<table border=\"1\" class=\"dataframe\">\n",
       "  <thead>\n",
       "    <tr style=\"text-align: right;\">\n",
       "      <th></th>\n",
       "      <th>Features</th>\n",
       "      <th>Importance</th>\n",
       "    </tr>\n",
       "  </thead>\n",
       "  <tbody>\n",
       "    <tr>\n",
       "      <th>2</th>\n",
       "      <td>Latitude</td>\n",
       "      <td>0.236652</td>\n",
       "    </tr>\n",
       "    <tr>\n",
       "      <th>3</th>\n",
       "      <td>Longitude</td>\n",
       "      <td>0.220515</td>\n",
       "    </tr>\n",
       "    <tr>\n",
       "      <th>0</th>\n",
       "      <td>floor_area_sqm</td>\n",
       "      <td>0.220337</td>\n",
       "    </tr>\n",
       "    <tr>\n",
       "      <th>1</th>\n",
       "      <td>remaining_lease</td>\n",
       "      <td>0.157807</td>\n",
       "    </tr>\n",
       "    <tr>\n",
       "      <th>4</th>\n",
       "      <td>storey_range_01 TO 03</td>\n",
       "      <td>0.026578</td>\n",
       "    </tr>\n",
       "    <tr>\n",
       "      <th>5</th>\n",
       "      <td>storey_range_04 TO 06</td>\n",
       "      <td>0.020408</td>\n",
       "    </tr>\n",
       "    <tr>\n",
       "      <th>6</th>\n",
       "      <td>storey_range_07 TO 09</td>\n",
       "      <td>0.015365</td>\n",
       "    </tr>\n",
       "    <tr>\n",
       "      <th>7</th>\n",
       "      <td>storey_range_10 TO 12</td>\n",
       "      <td>0.014654</td>\n",
       "    </tr>\n",
       "    <tr>\n",
       "      <th>25</th>\n",
       "      <td>flat_model_Improved</td>\n",
       "      <td>0.009848</td>\n",
       "    </tr>\n",
       "    <tr>\n",
       "      <th>8</th>\n",
       "      <td>storey_range_13 TO 15</td>\n",
       "      <td>0.008721</td>\n",
       "    </tr>\n",
       "  </tbody>\n",
       "</table>\n",
       "</div>"
      ],
      "text/plain": [
       "                 Features  Importance\n",
       "2                Latitude    0.236652\n",
       "3               Longitude    0.220515\n",
       "0          floor_area_sqm    0.220337\n",
       "1         remaining_lease    0.157807\n",
       "4   storey_range_01 TO 03    0.026578\n",
       "5   storey_range_04 TO 06    0.020408\n",
       "6   storey_range_07 TO 09    0.015365\n",
       "7   storey_range_10 TO 12    0.014654\n",
       "25    flat_model_Improved    0.009848\n",
       "8   storey_range_13 TO 15    0.008721"
      ]
     },
     "execution_count": 53,
     "metadata": {},
     "output_type": "execute_result"
    }
   ],
   "source": [
    "#Take a look at the 10 most impactful features\n",
    "tuned_xgb_top10 = tuned_xgb_df.sort_values('Importance', ascending=False).head(10)\n",
    "tuned_xgb_top10"
   ]
  },
  {
   "cell_type": "code",
   "execution_count": 97,
   "metadata": {},
   "outputs": [
    {
     "data": {
      "image/png": "[encoded data removed]",
      "text/plain": [
       "<Figure size 864x576 with 1 Axes>"
      ]
     },
     "metadata": {
      "needs_background": "light"
     },
     "output_type": "display_data"
    }
   ],
   "source": [
    "#Plot the 10 most impactful features\n",
    "plt.figure(figsize=(12,8))\n",
    "plt.barh(y=tuned_xgb_top10.sort_values('Importance',ascending=True)['Features'],width=tuned_xgb_top10.sort_values('Importance',ascending=True)['Importance'],color='#0000c6')\n",
    "\n",
    "plt.title(\"Feature Importance\", fontsize=15)\n",
    "plt.xticks(fontsize=15)\n",
    "plt.yticks(fontsize=15)\n",
    "# plt.yticks(ticks=np.arange(10),labels=['4th to 6th Floor', 'Schools', 'Supermarkets',\n",
    "#                                     '1st to 3rd Floor','Distance from carpark',\n",
    "#                                       'Distance from MRT','Longitude',\n",
    "#                                       'Latitude','Remaining Lease','Floor Area'],fontsize=15)\n",
    "plt.show()"
   ]
  },
  {
   "cell_type": "code",
   "execution_count": 113,
   "metadata": {},
   "outputs": [
    {
     "name": "stdout",
     "output_type": "stream",
     "text": [
      "mean absolute error: $25679.56\n",
      "max error: $264042.75\n",
      "max % error: 89.25\n",
      "avg % error: 6.21\n"
     ]
    }
   ],
   "source": [
    "#Get more statistics of the predictions\n",
    "print('mean absolute error: ${:.2f}'.format(mean_absolute_error(y_test,xgr_tune_predictions)))\n",
    "print('max error: ${:.2f}'.format(max(y_test-xgr_tune_predictions)))\n",
    "print('max % error: {:.2f}'.format(max(abs(y_test-xgr_tune_predictions)/y_test)*100))\n",
    "print('avg % error: {:.2f}'.format((sum((abs(y_test-xgr_tune_predictions)/y_test))/len(y_test)*100)))"
   ]
  },
  {
   "cell_type": "code",
   "execution_count": 108,
   "metadata": {},
   "outputs": [],
   "source": [
    "#Save the Tuned XGB Model\n",
    "import pickle\n",
    "filename = 'simple_XGB_model.pickle'\n",
    "pickle.dump(tuned_xgb, open(filename, 'wb'))"
   ]
  },
  {
   "cell_type": "markdown",
   "metadata": {},
   "source": [
    "<div class=\"alert alert-block alert-info\">\n",
    "    While the RMSE on the test set for this XGBoost model with minimal features is similar to the XGBoost model that took in all amenities but not flat longitude and latitude, the training cross validation shows that the XGBoost model with minimal features has lower variance and would generalise better. Location (as defined by latitude and longitude) is the most predictive feature for this model but location is a proxy to amenities that define value of the flat. As a result, this approach requires constant retraining, using a limited number of years as amenities may change rather significantly in upcoming HDB towns, which this model would not be able to differentiate between a similar location prior to and after the improvement of the amenities. If information about the amenties themselves could be included and recorded as of time of the sale, the XGBoost Model with amenities information but not the flat latitude and longitude would be able to make use of greater years of information (after prices are adjusted for inflation). This (minimalist) XGBoost model is better in the short term, but the XGBoost with amenities has the potential to score better by handling more data over longer periods.\n",
    "</div>"
   ]
  },
  {
   "cell_type": "code",
   "execution_count": null,
   "metadata": {},
   "outputs": [],
   "source": []
  }
 ],
 "metadata": {
  "kernelspec": {
   "display_name": "Python 3",
   "language": "python",
   "name": "python3"
  },
  "language_info": {
   "codemirror_mode": {
    "name": "ipython",
    "version": 3
   },
   "file_extension": ".py",
   "mimetype": "text/x-python",
   "name": "python",
   "nbconvert_exporter": "python",
   "pygments_lexer": "ipython3",
   "version": "3.6.8"
  }
 },
 "nbformat": 4,
 "nbformat_minor": 2
}
